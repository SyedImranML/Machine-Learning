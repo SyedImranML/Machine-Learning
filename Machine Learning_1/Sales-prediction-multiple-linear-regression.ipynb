{
 "cells": [
  {
   "cell_type": "markdown",
   "id": "0fda7f8b",
   "metadata": {},
   "source": [
    "# Sales Prediction\n",
    "## ( Multiple Linear Regression)"
   ]
  },
  {
   "cell_type": "markdown",
   "id": "48fad748",
   "metadata": {},
   "source": [
    "### Problem Statement\n",
    "\n",
    "Build a model which predicts sales based on the money spent on different platforms for marketing.\n",
    "\n",
    "### Data\n",
    "Use the advertising dataset given in ISLR and analyse the relationship between 'TV advertising' and 'sales' using a simple linear regression model. \n",
    "\n",
    "In this notebook, we'll build a linear regression model to predict `Sales` using an appropriate predictor variable."
   ]
  },
  {
   "cell_type": "markdown",
   "id": "b9bc2983",
   "metadata": {},
   "source": [
    "## Reading and Understanding the Data"
   ]
  },
  {
   "cell_type": "code",
   "execution_count": 2,
   "id": "9227b49f",
   "metadata": {},
   "outputs": [],
   "source": [
    "# Supress Warnings\n",
    "\n",
    "import warnings\n",
    "warnings.filterwarnings('ignore')\n",
    "\n",
    "# Import the numpy and pandas package\n",
    "\n",
    "import numpy as np\n",
    "import pandas as pd\n",
    "\n",
    "# Data Visualisation\n",
    "import matplotlib.pyplot as plt \n",
    "import seaborn as sns"
   ]
  },
  {
   "cell_type": "code",
   "execution_count": 3,
   "id": "8b21f3b0",
   "metadata": {},
   "outputs": [
    {
     "data": {
      "text/plain": [
       "'C:\\\\Users\\\\hp'"
      ]
     },
     "execution_count": 3,
     "metadata": {},
     "output_type": "execute_result"
    }
   ],
   "source": [
    "pwd"
   ]
  },
  {
   "cell_type": "code",
   "execution_count": 4,
   "id": "23f8fa48",
   "metadata": {},
   "outputs": [
    {
     "data": {
      "text/html": [
       "<div>\n",
       "<style scoped>\n",
       "    .dataframe tbody tr th:only-of-type {\n",
       "        vertical-align: middle;\n",
       "    }\n",
       "\n",
       "    .dataframe tbody tr th {\n",
       "        vertical-align: top;\n",
       "    }\n",
       "\n",
       "    .dataframe thead th {\n",
       "        text-align: right;\n",
       "    }\n",
       "</style>\n",
       "<table border=\"1\" class=\"dataframe\">\n",
       "  <thead>\n",
       "    <tr style=\"text-align: right;\">\n",
       "      <th></th>\n",
       "      <th>TV</th>\n",
       "      <th>Radio</th>\n",
       "      <th>Newspaper</th>\n",
       "      <th>Sales</th>\n",
       "    </tr>\n",
       "  </thead>\n",
       "  <tbody>\n",
       "    <tr>\n",
       "      <th>0</th>\n",
       "      <td>230.1</td>\n",
       "      <td>37.8</td>\n",
       "      <td>69.2</td>\n",
       "      <td>22.1</td>\n",
       "    </tr>\n",
       "    <tr>\n",
       "      <th>1</th>\n",
       "      <td>44.5</td>\n",
       "      <td>39.3</td>\n",
       "      <td>45.1</td>\n",
       "      <td>10.4</td>\n",
       "    </tr>\n",
       "    <tr>\n",
       "      <th>2</th>\n",
       "      <td>17.2</td>\n",
       "      <td>45.9</td>\n",
       "      <td>69.3</td>\n",
       "      <td>12.0</td>\n",
       "    </tr>\n",
       "    <tr>\n",
       "      <th>3</th>\n",
       "      <td>151.5</td>\n",
       "      <td>41.3</td>\n",
       "      <td>58.5</td>\n",
       "      <td>16.5</td>\n",
       "    </tr>\n",
       "    <tr>\n",
       "      <th>4</th>\n",
       "      <td>180.8</td>\n",
       "      <td>10.8</td>\n",
       "      <td>58.4</td>\n",
       "      <td>17.9</td>\n",
       "    </tr>\n",
       "  </tbody>\n",
       "</table>\n",
       "</div>"
      ],
      "text/plain": [
       "      TV  Radio  Newspaper  Sales\n",
       "0  230.1   37.8       69.2   22.1\n",
       "1   44.5   39.3       45.1   10.4\n",
       "2   17.2   45.9       69.3   12.0\n",
       "3  151.5   41.3       58.5   16.5\n",
       "4  180.8   10.8       58.4   17.9"
      ]
     },
     "execution_count": 4,
     "metadata": {},
     "output_type": "execute_result"
    }
   ],
   "source": [
    "advertising = pd.DataFrame(pd.read_csv(\"advertising.csv\"))\n",
    "advertising.head()"
   ]
  },
  {
   "cell_type": "markdown",
   "id": "791e3a0f",
   "metadata": {},
   "source": [
    "## Data Inspection"
   ]
  },
  {
   "cell_type": "code",
   "execution_count": 6,
   "id": "30e68fd0",
   "metadata": {},
   "outputs": [
    {
     "data": {
      "text/plain": [
       "(200, 4)"
      ]
     },
     "execution_count": 6,
     "metadata": {},
     "output_type": "execute_result"
    }
   ],
   "source": [
    "advertising.shape"
   ]
  },
  {
   "cell_type": "code",
   "execution_count": 7,
   "id": "67f1cc01",
   "metadata": {},
   "outputs": [
    {
     "name": "stdout",
     "output_type": "stream",
     "text": [
      "<class 'pandas.core.frame.DataFrame'>\n",
      "RangeIndex: 200 entries, 0 to 199\n",
      "Data columns (total 4 columns):\n",
      " #   Column     Non-Null Count  Dtype  \n",
      "---  ------     --------------  -----  \n",
      " 0   TV         200 non-null    float64\n",
      " 1   Radio      200 non-null    float64\n",
      " 2   Newspaper  200 non-null    float64\n",
      " 3   Sales      200 non-null    float64\n",
      "dtypes: float64(4)\n",
      "memory usage: 6.4 KB\n"
     ]
    }
   ],
   "source": [
    "advertising.info()"
   ]
  },
  {
   "cell_type": "code",
   "execution_count": 8,
   "id": "e6cfebfa",
   "metadata": {
    "scrolled": true
   },
   "outputs": [
    {
     "data": {
      "text/html": [
       "<div>\n",
       "<style scoped>\n",
       "    .dataframe tbody tr th:only-of-type {\n",
       "        vertical-align: middle;\n",
       "    }\n",
       "\n",
       "    .dataframe tbody tr th {\n",
       "        vertical-align: top;\n",
       "    }\n",
       "\n",
       "    .dataframe thead th {\n",
       "        text-align: right;\n",
       "    }\n",
       "</style>\n",
       "<table border=\"1\" class=\"dataframe\">\n",
       "  <thead>\n",
       "    <tr style=\"text-align: right;\">\n",
       "      <th></th>\n",
       "      <th>TV</th>\n",
       "      <th>Radio</th>\n",
       "      <th>Newspaper</th>\n",
       "      <th>Sales</th>\n",
       "    </tr>\n",
       "  </thead>\n",
       "  <tbody>\n",
       "    <tr>\n",
       "      <th>count</th>\n",
       "      <td>200.000000</td>\n",
       "      <td>200.000000</td>\n",
       "      <td>200.000000</td>\n",
       "      <td>200.000000</td>\n",
       "    </tr>\n",
       "    <tr>\n",
       "      <th>mean</th>\n",
       "      <td>147.042500</td>\n",
       "      <td>23.264000</td>\n",
       "      <td>30.554000</td>\n",
       "      <td>15.130500</td>\n",
       "    </tr>\n",
       "    <tr>\n",
       "      <th>std</th>\n",
       "      <td>85.854236</td>\n",
       "      <td>14.846809</td>\n",
       "      <td>21.778621</td>\n",
       "      <td>5.283892</td>\n",
       "    </tr>\n",
       "    <tr>\n",
       "      <th>min</th>\n",
       "      <td>0.700000</td>\n",
       "      <td>0.000000</td>\n",
       "      <td>0.300000</td>\n",
       "      <td>1.600000</td>\n",
       "    </tr>\n",
       "    <tr>\n",
       "      <th>25%</th>\n",
       "      <td>74.375000</td>\n",
       "      <td>9.975000</td>\n",
       "      <td>12.750000</td>\n",
       "      <td>11.000000</td>\n",
       "    </tr>\n",
       "    <tr>\n",
       "      <th>50%</th>\n",
       "      <td>149.750000</td>\n",
       "      <td>22.900000</td>\n",
       "      <td>25.750000</td>\n",
       "      <td>16.000000</td>\n",
       "    </tr>\n",
       "    <tr>\n",
       "      <th>75%</th>\n",
       "      <td>218.825000</td>\n",
       "      <td>36.525000</td>\n",
       "      <td>45.100000</td>\n",
       "      <td>19.050000</td>\n",
       "    </tr>\n",
       "    <tr>\n",
       "      <th>max</th>\n",
       "      <td>296.400000</td>\n",
       "      <td>49.600000</td>\n",
       "      <td>114.000000</td>\n",
       "      <td>27.000000</td>\n",
       "    </tr>\n",
       "  </tbody>\n",
       "</table>\n",
       "</div>"
      ],
      "text/plain": [
       "               TV       Radio   Newspaper       Sales\n",
       "count  200.000000  200.000000  200.000000  200.000000\n",
       "mean   147.042500   23.264000   30.554000   15.130500\n",
       "std     85.854236   14.846809   21.778621    5.283892\n",
       "min      0.700000    0.000000    0.300000    1.600000\n",
       "25%     74.375000    9.975000   12.750000   11.000000\n",
       "50%    149.750000   22.900000   25.750000   16.000000\n",
       "75%    218.825000   36.525000   45.100000   19.050000\n",
       "max    296.400000   49.600000  114.000000   27.000000"
      ]
     },
     "execution_count": 8,
     "metadata": {},
     "output_type": "execute_result"
    }
   ],
   "source": [
    "advertising.describe()"
   ]
  },
  {
   "cell_type": "markdown",
   "id": "f9297ecd",
   "metadata": {},
   "source": [
    "## Data Cleaning"
   ]
  },
  {
   "cell_type": "code",
   "execution_count": 10,
   "id": "efea11d3",
   "metadata": {},
   "outputs": [
    {
     "data": {
      "text/plain": [
       "TV           0.0\n",
       "Radio        0.0\n",
       "Newspaper    0.0\n",
       "Sales        0.0\n",
       "dtype: float64"
      ]
     },
     "execution_count": 10,
     "metadata": {},
     "output_type": "execute_result"
    }
   ],
   "source": [
    "# Checking Null values\n",
    "advertising.isnull().sum()*100/advertising.shape[0]\n",
    "# There are no NULL values in the dataset, hence it is clean."
   ]
  },
  {
   "cell_type": "code",
   "execution_count": 13,
   "id": "7c15a26f",
   "metadata": {},
   "outputs": [
    {
     "data": {
      "image/png": "[encoded data removed]",
      "text/plain": [
       "<Figure size 360x360 with 3 Axes>"
      ]
     },
     "metadata": {
      "needs_background": "light"
     },
     "output_type": "display_data"
    }
   ],
   "source": [
    "# Outlier Analysis\n",
    "\n",
    "fig, axs = plt.subplots(3, figsize = (5,5))\n",
    "plt1 = sns.boxplot(advertising['TV'], ax = axs[0])\n",
    "plt2 = sns.boxplot(advertising['Newspaper'], ax = axs[1])\n",
    "plt3 = sns.boxplot(advertising['Radio'], ax = axs[2])\n",
    "plt.tight_layout()"
   ]
  },
  {
   "cell_type": "code",
   "execution_count": 12,
   "id": "1588905e",
   "metadata": {},
   "outputs": [],
   "source": [
    "# There are no considerable outliers present in the data."
   ]
  },
  {
   "cell_type": "markdown",
   "id": "30b93642",
   "metadata": {},
   "source": [
    "## Exploratory Data Analysis"
   ]
  },
  {
   "cell_type": "markdown",
   "id": "62f3b030",
   "metadata": {},
   "source": [
    "#### Sales (Target Variable)"
   ]
  },
  {
   "cell_type": "code",
   "execution_count": 14,
   "id": "fe0e1160",
   "metadata": {},
   "outputs": [
    {
     "data": {
      "image/png": "[encoded data removed]",
      "text/plain": [
       "<Figure size 432x288 with 1 Axes>"
      ]
     },
     "metadata": {
      "needs_background": "light"
     },
     "output_type": "display_data"
    }
   ],
   "source": [
    "sns.boxplot(advertising['Sales'])\n",
    "plt.show()"
   ]
  },
  {
   "cell_type": "code",
   "execution_count": 15,
   "id": "cf50dc1c",
   "metadata": {},
   "outputs": [
    {
     "data": {
      "image/png": "[encoded data removed]",
      "text/plain": [
       "<Figure size 864x288 with 3 Axes>"
      ]
     },
     "metadata": {
      "needs_background": "light"
     },
     "output_type": "display_data"
    }
   ],
   "source": [
    "# Let's see how Sales are related with other variables using scatter plot.\n",
    "sns.pairplot(advertising, x_vars=['TV', 'Newspaper', 'Radio'], y_vars='Sales', height=4, aspect=1, kind='scatter')\n",
    "plt.show()"
   ]
  },
  {
   "cell_type": "code",
   "execution_count": 16,
   "id": "81f13227",
   "metadata": {},
   "outputs": [
    {
     "data": {
      "image/png": "[encoded data removed]",
      "text/plain": [
       "<Figure size 432x288 with 2 Axes>"
      ]
     },
     "metadata": {
      "needs_background": "light"
     },
     "output_type": "display_data"
    }
   ],
   "source": [
    "# Let's see the correlation between different variables.\n",
    "sns.heatmap(advertising.corr(), cmap=\"YlGnBu\", annot = True)\n",
    "plt.show()\n",
    "\n",
    "# corr - linear assc between 2 variables\n",
    "# x variables --> gt0.8 or less than -0.8 (high_pos/high_neg)"
   ]
  },
  {
   "cell_type": "code",
   "execution_count": 17,
   "id": "20b7849c",
   "metadata": {},
   "outputs": [
    {
     "name": "stdout",
     "output_type": "stream",
     "text": [
      "     feature       VIF\n",
      "0      Radio  3.285462\n",
      "1         TV  2.486772\n",
      "2  Newspaper  3.055245\n"
     ]
    }
   ],
   "source": [
    "from statsmodels.stats.outliers_influence import variance_inflation_factor\n",
    "\n",
    "# the independent variables set\n",
    "X = advertising[['Radio', 'TV', 'Newspaper']]\n",
    "  \n",
    "# VIF dataframe\n",
    "vif_data = pd.DataFrame()\n",
    "vif_data[\"feature\"] = X.columns\n",
    "  \n",
    "# calculating VIF for each feature\n",
    "vif_data[\"VIF\"] = [variance_inflation_factor(X.values, i)\n",
    "                          for i in range(len(X.columns))]\n",
    "  \n",
    "print(vif_data)"
   ]
  },
  {
   "cell_type": "markdown",
   "id": "b3dc64ab",
   "metadata": {},
   "source": [
    "## Model Building"
   ]
  },
  {
   "cell_type": "markdown",
   "id": "4e249bda",
   "metadata": {},
   "source": [
    "Equation of linear regression<br>\n",
    "$y = c + m_1x_1 + m_2x_2 + ... + m_nx_n$\n",
    "\n",
    "-  $y$ is the response\n",
    "-  $c$ is the intercept\n",
    "-  $m_1$ is the coefficient for the first feature\n",
    "-  $m_n$ is the coefficient for the nth feature<br>\n",
    "\n",
    "In our case:\n",
    "\n",
    "$y = c + m_1 \\times TV$\n",
    "\n",
    "The $m$ values are called the model **coefficients** or **model parameters**.\n",
    "\n",
    "---"
   ]
  },
  {
   "cell_type": "markdown",
   "id": "da01840d",
   "metadata": {},
   "source": [
    "### Performing Simple Linear Regression"
   ]
  },
  {
   "cell_type": "markdown",
   "id": "f86bd148",
   "metadata": {},
   "source": [
    "### Generic Steps in model building using `statsmodels`\n",
    "\n",
    "We first assign the feature variable, `TV`,'NewsPaper','Radio' in this case, to the variable `X` and the response variable, `Sales`, to the variable `y`."
   ]
  },
  {
   "cell_type": "code",
   "execution_count": 21,
   "id": "5e42b7f8",
   "metadata": {},
   "outputs": [],
   "source": [
    "X = advertising['TV']\n",
    "y = advertising['Sales']"
   ]
  },
  {
   "cell_type": "markdown",
   "id": "46bd08b7",
   "metadata": {},
   "source": [
    "#### Train-Test Split\n",
    "\n",
    "You now need to split our variable into training and testing sets. You'll perform this by importing `train_test_split` from the `sklearn.model_selection` library. It is usually a good practice to keep 70% of the data in your train dataset and the rest 30% in your test dataset"
   ]
  },
  {
   "cell_type": "code",
   "execution_count": 22,
   "id": "38cb8bf5",
   "metadata": {},
   "outputs": [],
   "source": [
    "from sklearn.model_selection import train_test_split\n",
    "X_train, X_test, y_train, y_test = train_test_split(X, y, \n",
    "                                                    train_size = 0.7,\n",
    "                                                    test_size = 0.3,\n",
    "                                                    random_state = 100)"
   ]
  },
  {
   "cell_type": "code",
   "execution_count": 23,
   "id": "d77d09fa",
   "metadata": {},
   "outputs": [
    {
     "data": {
      "text/plain": [
       "74     213.4\n",
       "3      151.5\n",
       "185    205.0\n",
       "26     142.9\n",
       "90     134.3\n",
       "Name: TV, dtype: float64"
      ]
     },
     "execution_count": 23,
     "metadata": {},
     "output_type": "execute_result"
    }
   ],
   "source": [
    "# Let's now take a look at the train dataset\n",
    "X_train.head()"
   ]
  },
  {
   "cell_type": "code",
   "execution_count": 24,
   "id": "1a07e76b",
   "metadata": {},
   "outputs": [
    {
     "data": {
      "text/plain": [
       "(140,)"
      ]
     },
     "execution_count": 24,
     "metadata": {},
     "output_type": "execute_result"
    }
   ],
   "source": [
    "X_train.shape"
   ]
  },
  {
   "cell_type": "code",
   "execution_count": 25,
   "id": "bf747774",
   "metadata": {},
   "outputs": [
    {
     "data": {
      "text/plain": [
       "74     17.0\n",
       "3      16.5\n",
       "185    22.6\n",
       "26     15.0\n",
       "90     14.0\n",
       "Name: Sales, dtype: float64"
      ]
     },
     "execution_count": 25,
     "metadata": {},
     "output_type": "execute_result"
    }
   ],
   "source": [
    "y_train.head()"
   ]
  },
  {
   "cell_type": "code",
   "execution_count": 26,
   "id": "60c67fa2",
   "metadata": {},
   "outputs": [
    {
     "data": {
      "text/plain": [
       "(60,)"
      ]
     },
     "execution_count": 26,
     "metadata": {},
     "output_type": "execute_result"
    }
   ],
   "source": [
    "X_test.shape"
   ]
  },
  {
   "cell_type": "markdown",
   "id": "2e308c92",
   "metadata": {},
   "source": [
    "#### Building a Linear Model\n",
    "\n",
    "You first need to import the `statsmodel.api` library using which you'll perform the linear regression."
   ]
  },
  {
   "cell_type": "code",
   "execution_count": 27,
   "id": "ba090ef6",
   "metadata": {},
   "outputs": [],
   "source": [
    "import statsmodels.api as sm"
   ]
  },
  {
   "cell_type": "markdown",
   "id": "11440274",
   "metadata": {},
   "source": [
    "By default, the statsmodels library fits a line on the dataset which passes through the origin. But in order to have an intercept, you need to manually use the add_constant attribute of statsmodels. And once you've added the constant to your X_train dataset, you can go ahead and fit a regression line using the OLS (Ordinary Least Squares) attribute of statsmodels as shown below"
   ]
  },
  {
   "cell_type": "code",
   "execution_count": 28,
   "id": "d9311609",
   "metadata": {},
   "outputs": [],
   "source": [
    "# Add a constant to get an intercept\n",
    "X_train_sm = sm.add_constant(X_train)"
   ]
  },
  {
   "cell_type": "code",
   "execution_count": 29,
   "id": "ec0989ab",
   "metadata": {},
   "outputs": [
    {
     "data": {
      "text/html": [
       "<div>\n",
       "<style scoped>\n",
       "    .dataframe tbody tr th:only-of-type {\n",
       "        vertical-align: middle;\n",
       "    }\n",
       "\n",
       "    .dataframe tbody tr th {\n",
       "        vertical-align: top;\n",
       "    }\n",
       "\n",
       "    .dataframe thead th {\n",
       "        text-align: right;\n",
       "    }\n",
       "</style>\n",
       "<table border=\"1\" class=\"dataframe\">\n",
       "  <thead>\n",
       "    <tr style=\"text-align: right;\">\n",
       "      <th></th>\n",
       "      <th>const</th>\n",
       "      <th>TV</th>\n",
       "    </tr>\n",
       "  </thead>\n",
       "  <tbody>\n",
       "    <tr>\n",
       "      <th>74</th>\n",
       "      <td>1.0</td>\n",
       "      <td>213.4</td>\n",
       "    </tr>\n",
       "    <tr>\n",
       "      <th>3</th>\n",
       "      <td>1.0</td>\n",
       "      <td>151.5</td>\n",
       "    </tr>\n",
       "    <tr>\n",
       "      <th>185</th>\n",
       "      <td>1.0</td>\n",
       "      <td>205.0</td>\n",
       "    </tr>\n",
       "    <tr>\n",
       "      <th>26</th>\n",
       "      <td>1.0</td>\n",
       "      <td>142.9</td>\n",
       "    </tr>\n",
       "    <tr>\n",
       "      <th>90</th>\n",
       "      <td>1.0</td>\n",
       "      <td>134.3</td>\n",
       "    </tr>\n",
       "  </tbody>\n",
       "</table>\n",
       "</div>"
      ],
      "text/plain": [
       "     const     TV\n",
       "74     1.0  213.4\n",
       "3      1.0  151.5\n",
       "185    1.0  205.0\n",
       "26     1.0  142.9\n",
       "90     1.0  134.3"
      ]
     },
     "execution_count": 29,
     "metadata": {},
     "output_type": "execute_result"
    }
   ],
   "source": [
    "X_train_sm.head()"
   ]
  },
  {
   "cell_type": "code",
   "execution_count": 30,
   "id": "f851168c",
   "metadata": {},
   "outputs": [],
   "source": [
    "# Fit the resgression line using 'OLS'\n",
    "lr = sm.OLS(y_train, X_train_sm).fit()"
   ]
  },
  {
   "cell_type": "code",
   "execution_count": 31,
   "id": "78e7c39e",
   "metadata": {},
   "outputs": [
    {
     "name": "stdout",
     "output_type": "stream",
     "text": [
      "                            OLS Regression Results                            \n",
      "==============================================================================\n",
      "Dep. Variable:                  Sales   R-squared:                       0.816\n",
      "Model:                            OLS   Adj. R-squared:                  0.814\n",
      "Method:                 Least Squares   F-statistic:                     611.2\n",
      "Date:                Mon, 11 Dec 2023   Prob (F-statistic):           1.52e-52\n",
      "Time:                        12:33:13   Log-Likelihood:                -321.12\n",
      "No. Observations:                 140   AIC:                             646.2\n",
      "Df Residuals:                     138   BIC:                             652.1\n",
      "Df Model:                           1                                         \n",
      "Covariance Type:            nonrobust                                         \n",
      "==============================================================================\n",
      "                 coef    std err          t      P>|t|      [0.025      0.975]\n",
      "------------------------------------------------------------------------------\n",
      "const          6.9487      0.385     18.068      0.000       6.188       7.709\n",
      "TV             0.0545      0.002     24.722      0.000       0.050       0.059\n",
      "==============================================================================\n",
      "Omnibus:                        0.027   Durbin-Watson:                   2.196\n",
      "Prob(Omnibus):                  0.987   Jarque-Bera (JB):                0.150\n",
      "Skew:                          -0.006   Prob(JB):                        0.928\n",
      "Kurtosis:                       2.840   Cond. No.                         328.\n",
      "==============================================================================\n",
      "\n",
      "Notes:\n",
      "[1] Standard Errors assume that the covariance matrix of the errors is correctly specified.\n"
     ]
    }
   ],
   "source": [
    "# Performing a summary operation lists out all the different parameters of the regression line fitted\n",
    "print(lr.summary())"
   ]
  },
  {
   "cell_type": "code",
   "execution_count": 32,
   "id": "d2d9998a",
   "metadata": {},
   "outputs": [],
   "source": [
    "### Here R Sqr.  -> 0.816 i.e 81%\n",
    "\n"
   ]
  },
  {
   "cell_type": "markdown",
   "id": "6582b859",
   "metadata": {},
   "source": [
    "#### let say we have more x variables"
   ]
  },
  {
   "cell_type": "code",
   "execution_count": 35,
   "id": "d645365f",
   "metadata": {},
   "outputs": [],
   "source": [
    "X = advertising[['TV','Newspaper']]\n",
    "y = advertising['Sales']"
   ]
  },
  {
   "cell_type": "markdown",
   "id": "645ee5f0",
   "metadata": {},
   "source": [
    "### Train-Test Split"
   ]
  },
  {
   "cell_type": "code",
   "execution_count": 36,
   "id": "e0718c52",
   "metadata": {},
   "outputs": [],
   "source": [
    "from sklearn.model_selection import train_test_split\n",
    "X_train, X_test, y_train, y_test = train_test_split(X, y, \n",
    "                                                    train_size = 0.7,\n",
    "                                                    test_size = 0.3,\n",
    "                                                    random_state = 100)"
   ]
  },
  {
   "cell_type": "code",
   "execution_count": 37,
   "id": "366385c3",
   "metadata": {},
   "outputs": [
    {
     "data": {
      "text/html": [
       "<div>\n",
       "<style scoped>\n",
       "    .dataframe tbody tr th:only-of-type {\n",
       "        vertical-align: middle;\n",
       "    }\n",
       "\n",
       "    .dataframe tbody tr th {\n",
       "        vertical-align: top;\n",
       "    }\n",
       "\n",
       "    .dataframe thead th {\n",
       "        text-align: right;\n",
       "    }\n",
       "</style>\n",
       "<table border=\"1\" class=\"dataframe\">\n",
       "  <thead>\n",
       "    <tr style=\"text-align: right;\">\n",
       "      <th></th>\n",
       "      <th>TV</th>\n",
       "      <th>Newspaper</th>\n",
       "    </tr>\n",
       "  </thead>\n",
       "  <tbody>\n",
       "    <tr>\n",
       "      <th>74</th>\n",
       "      <td>213.4</td>\n",
       "      <td>13.1</td>\n",
       "    </tr>\n",
       "    <tr>\n",
       "      <th>3</th>\n",
       "      <td>151.5</td>\n",
       "      <td>58.5</td>\n",
       "    </tr>\n",
       "    <tr>\n",
       "      <th>185</th>\n",
       "      <td>205.0</td>\n",
       "      <td>19.6</td>\n",
       "    </tr>\n",
       "    <tr>\n",
       "      <th>26</th>\n",
       "      <td>142.9</td>\n",
       "      <td>12.6</td>\n",
       "    </tr>\n",
       "    <tr>\n",
       "      <th>90</th>\n",
       "      <td>134.3</td>\n",
       "      <td>9.3</td>\n",
       "    </tr>\n",
       "  </tbody>\n",
       "</table>\n",
       "</div>"
      ],
      "text/plain": [
       "        TV  Newspaper\n",
       "74   213.4       13.1\n",
       "3    151.5       58.5\n",
       "185  205.0       19.6\n",
       "26   142.9       12.6\n",
       "90   134.3        9.3"
      ]
     },
     "execution_count": 37,
     "metadata": {},
     "output_type": "execute_result"
    }
   ],
   "source": [
    "X_train.head()"
   ]
  },
  {
   "cell_type": "code",
   "execution_count": 38,
   "id": "944aad5b",
   "metadata": {},
   "outputs": [
    {
     "data": {
      "text/plain": [
       "74     17.0\n",
       "3      16.5\n",
       "185    22.6\n",
       "26     15.0\n",
       "90     14.0\n",
       "Name: Sales, dtype: float64"
      ]
     },
     "execution_count": 38,
     "metadata": {},
     "output_type": "execute_result"
    }
   ],
   "source": [
    "y_train.head()"
   ]
  },
  {
   "cell_type": "markdown",
   "id": "411db931",
   "metadata": {},
   "source": [
    "#### Building a Linear Model\n",
    "\n",
    "You first need to import the `statsmodel.api` library using which you'll perform the linear regression."
   ]
  },
  {
   "cell_type": "code",
   "execution_count": 39,
   "id": "5b6aa193",
   "metadata": {},
   "outputs": [],
   "source": [
    "# Add a constant to get an intercept\n",
    "X_train_sm = sm.add_constant(X_train)"
   ]
  },
  {
   "cell_type": "code",
   "execution_count": 40,
   "id": "f12c3f16",
   "metadata": {},
   "outputs": [
    {
     "data": {
      "text/html": [
       "<div>\n",
       "<style scoped>\n",
       "    .dataframe tbody tr th:only-of-type {\n",
       "        vertical-align: middle;\n",
       "    }\n",
       "\n",
       "    .dataframe tbody tr th {\n",
       "        vertical-align: top;\n",
       "    }\n",
       "\n",
       "    .dataframe thead th {\n",
       "        text-align: right;\n",
       "    }\n",
       "</style>\n",
       "<table border=\"1\" class=\"dataframe\">\n",
       "  <thead>\n",
       "    <tr style=\"text-align: right;\">\n",
       "      <th></th>\n",
       "      <th>const</th>\n",
       "      <th>TV</th>\n",
       "      <th>Newspaper</th>\n",
       "    </tr>\n",
       "  </thead>\n",
       "  <tbody>\n",
       "    <tr>\n",
       "      <th>74</th>\n",
       "      <td>1.0</td>\n",
       "      <td>213.4</td>\n",
       "      <td>13.1</td>\n",
       "    </tr>\n",
       "    <tr>\n",
       "      <th>3</th>\n",
       "      <td>1.0</td>\n",
       "      <td>151.5</td>\n",
       "      <td>58.5</td>\n",
       "    </tr>\n",
       "    <tr>\n",
       "      <th>185</th>\n",
       "      <td>1.0</td>\n",
       "      <td>205.0</td>\n",
       "      <td>19.6</td>\n",
       "    </tr>\n",
       "    <tr>\n",
       "      <th>26</th>\n",
       "      <td>1.0</td>\n",
       "      <td>142.9</td>\n",
       "      <td>12.6</td>\n",
       "    </tr>\n",
       "    <tr>\n",
       "      <th>90</th>\n",
       "      <td>1.0</td>\n",
       "      <td>134.3</td>\n",
       "      <td>9.3</td>\n",
       "    </tr>\n",
       "  </tbody>\n",
       "</table>\n",
       "</div>"
      ],
      "text/plain": [
       "     const     TV  Newspaper\n",
       "74     1.0  213.4       13.1\n",
       "3      1.0  151.5       58.5\n",
       "185    1.0  205.0       19.6\n",
       "26     1.0  142.9       12.6\n",
       "90     1.0  134.3        9.3"
      ]
     },
     "execution_count": 40,
     "metadata": {},
     "output_type": "execute_result"
    }
   ],
   "source": [
    "X_train_sm.head()"
   ]
  },
  {
   "cell_type": "code",
   "execution_count": 41,
   "id": "8befc343",
   "metadata": {},
   "outputs": [],
   "source": [
    "# Fit the resgression line using 'OLS'\n",
    "lr = sm.OLS(y_train, X_train_sm).fit()"
   ]
  },
  {
   "cell_type": "code",
   "execution_count": 42,
   "id": "028b09a5",
   "metadata": {},
   "outputs": [
    {
     "name": "stdout",
     "output_type": "stream",
     "text": [
      "                            OLS Regression Results                            \n",
      "==============================================================================\n",
      "Dep. Variable:                  Sales   R-squared:                       0.836\n",
      "Model:                            OLS   Adj. R-squared:                  0.834\n",
      "Method:                 Least Squares   F-statistic:                     350.3\n",
      "Date:                Mon, 11 Dec 2023   Prob (F-statistic):           1.38e-54\n",
      "Time:                        12:43:41   Log-Likelihood:                -312.81\n",
      "No. Observations:                 140   AIC:                             631.6\n",
      "Df Residuals:                     137   BIC:                             640.4\n",
      "Df Model:                           2                                         \n",
      "Covariance Type:            nonrobust                                         \n",
      "==============================================================================\n",
      "                 coef    std err          t      P>|t|      [0.025      0.975]\n",
      "------------------------------------------------------------------------------\n",
      "const          5.9619      0.434     13.727      0.000       5.103       6.821\n",
      "TV             0.0536      0.002     25.538      0.000       0.049       0.058\n",
      "Newspaper      0.0358      0.009      4.157      0.000       0.019       0.053\n",
      "==============================================================================\n",
      "Omnibus:                        0.099   Durbin-Watson:                   2.138\n",
      "Prob(Omnibus):                  0.952   Jarque-Bera (JB):                0.036\n",
      "Skew:                           0.039   Prob(JB):                        0.982\n",
      "Kurtosis:                       2.987   Cond. No.                         397.\n",
      "==============================================================================\n",
      "\n",
      "Notes:\n",
      "[1] Standard Errors assume that the covariance matrix of the errors is correctly specified.\n"
     ]
    }
   ],
   "source": [
    "# Performing a summary operation lists out all the different parameters of the regression line fitted\n",
    "print(lr.summary())"
   ]
  },
  {
   "cell_type": "code",
   "execution_count": null,
   "id": "6c9f49c8",
   "metadata": {},
   "outputs": [],
   "source": [
    "# note : R-squared:                       0.836 i.e 83%"
   ]
  },
  {
   "cell_type": "markdown",
   "id": "8a0d73d1",
   "metadata": {},
   "source": [
    "### lets make more complicated: by adding one more variable \n",
    "    "
   ]
  },
  {
   "cell_type": "code",
   "execution_count": 43,
   "id": "7ee4f545",
   "metadata": {},
   "outputs": [],
   "source": [
    "X = advertising[['TV','Newspaper','Radio']]\n",
    "y = advertising['Sales']"
   ]
  },
  {
   "cell_type": "markdown",
   "id": "b6e53086",
   "metadata": {},
   "source": [
    "#### Train-Test Split\n",
    "You now need to split our variable into training and testing sets. You'll perform this by importing train_test_split from the sklearn.model_selection library. It is usually a good practice to keep 70% of the data in your train dataset and the rest 30% in your test dataset"
   ]
  },
  {
   "cell_type": "code",
   "execution_count": 44,
   "id": "fe2c07dd",
   "metadata": {},
   "outputs": [],
   "source": [
    "from sklearn.model_selection import train_test_split\n",
    "X_train, X_test, y_train, y_test = train_test_split(X, y, \n",
    "                                                    train_size = 0.7,\n",
    "                                                    test_size = 0.3,\n",
    "                                                    random_state = 100)"
   ]
  },
  {
   "cell_type": "code",
   "execution_count": 45,
   "id": "d15441cd",
   "metadata": {},
   "outputs": [
    {
     "data": {
      "text/html": [
       "<div>\n",
       "<style scoped>\n",
       "    .dataframe tbody tr th:only-of-type {\n",
       "        vertical-align: middle;\n",
       "    }\n",
       "\n",
       "    .dataframe tbody tr th {\n",
       "        vertical-align: top;\n",
       "    }\n",
       "\n",
       "    .dataframe thead th {\n",
       "        text-align: right;\n",
       "    }\n",
       "</style>\n",
       "<table border=\"1\" class=\"dataframe\">\n",
       "  <thead>\n",
       "    <tr style=\"text-align: right;\">\n",
       "      <th></th>\n",
       "      <th>TV</th>\n",
       "      <th>Newspaper</th>\n",
       "      <th>Radio</th>\n",
       "    </tr>\n",
       "  </thead>\n",
       "  <tbody>\n",
       "    <tr>\n",
       "      <th>74</th>\n",
       "      <td>213.4</td>\n",
       "      <td>13.1</td>\n",
       "      <td>24.6</td>\n",
       "    </tr>\n",
       "    <tr>\n",
       "      <th>3</th>\n",
       "      <td>151.5</td>\n",
       "      <td>58.5</td>\n",
       "      <td>41.3</td>\n",
       "    </tr>\n",
       "    <tr>\n",
       "      <th>185</th>\n",
       "      <td>205.0</td>\n",
       "      <td>19.6</td>\n",
       "      <td>45.1</td>\n",
       "    </tr>\n",
       "    <tr>\n",
       "      <th>26</th>\n",
       "      <td>142.9</td>\n",
       "      <td>12.6</td>\n",
       "      <td>29.3</td>\n",
       "    </tr>\n",
       "    <tr>\n",
       "      <th>90</th>\n",
       "      <td>134.3</td>\n",
       "      <td>9.3</td>\n",
       "      <td>4.9</td>\n",
       "    </tr>\n",
       "  </tbody>\n",
       "</table>\n",
       "</div>"
      ],
      "text/plain": [
       "        TV  Newspaper  Radio\n",
       "74   213.4       13.1   24.6\n",
       "3    151.5       58.5   41.3\n",
       "185  205.0       19.6   45.1\n",
       "26   142.9       12.6   29.3\n",
       "90   134.3        9.3    4.9"
      ]
     },
     "execution_count": 45,
     "metadata": {},
     "output_type": "execute_result"
    }
   ],
   "source": [
    "# Let's now take a look at the train dataset\n",
    "X_train.head()"
   ]
  },
  {
   "cell_type": "code",
   "execution_count": 46,
   "id": "d6e1c97b",
   "metadata": {},
   "outputs": [
    {
     "data": {
      "text/plain": [
       "74     17.0\n",
       "3      16.5\n",
       "185    22.6\n",
       "26     15.0\n",
       "90     14.0\n",
       "Name: Sales, dtype: float64"
      ]
     },
     "execution_count": 46,
     "metadata": {},
     "output_type": "execute_result"
    }
   ],
   "source": [
    "y_train.head()"
   ]
  },
  {
   "cell_type": "markdown",
   "id": "8b42596f",
   "metadata": {},
   "source": [
    "#### Building a Linear Model\n",
    "\n",
    "You first need to import the `statsmodel.api` library using which you'll perform the linear regression."
   ]
  },
  {
   "cell_type": "code",
   "execution_count": 47,
   "id": "d1840e0f",
   "metadata": {},
   "outputs": [],
   "source": [
    "import statsmodels.api as sm"
   ]
  },
  {
   "cell_type": "markdown",
   "id": "8e4ca088",
   "metadata": {},
   "source": [
    "By default, the statsmodels library fits a line on the dataset which passes through the origin. But in order to have an intercept, you need to manually use the add_constant attribute of statsmodels. And once you've added the constant to your X_train dataset, you can go ahead and fit a regression line using the OLS (Ordinary Least Squares) attribute of statsmodels as shown below"
   ]
  },
  {
   "cell_type": "code",
   "execution_count": 48,
   "id": "34fec794",
   "metadata": {},
   "outputs": [],
   "source": [
    "# Add a constant to get an intercept\n",
    "X_train_sm = sm.add_constant(X_train)"
   ]
  },
  {
   "cell_type": "code",
   "execution_count": 49,
   "id": "745dabb8",
   "metadata": {},
   "outputs": [
    {
     "data": {
      "text/html": [
       "<div>\n",
       "<style scoped>\n",
       "    .dataframe tbody tr th:only-of-type {\n",
       "        vertical-align: middle;\n",
       "    }\n",
       "\n",
       "    .dataframe tbody tr th {\n",
       "        vertical-align: top;\n",
       "    }\n",
       "\n",
       "    .dataframe thead th {\n",
       "        text-align: right;\n",
       "    }\n",
       "</style>\n",
       "<table border=\"1\" class=\"dataframe\">\n",
       "  <thead>\n",
       "    <tr style=\"text-align: right;\">\n",
       "      <th></th>\n",
       "      <th>const</th>\n",
       "      <th>TV</th>\n",
       "      <th>Newspaper</th>\n",
       "      <th>Radio</th>\n",
       "    </tr>\n",
       "  </thead>\n",
       "  <tbody>\n",
       "    <tr>\n",
       "      <th>74</th>\n",
       "      <td>1.0</td>\n",
       "      <td>213.4</td>\n",
       "      <td>13.1</td>\n",
       "      <td>24.6</td>\n",
       "    </tr>\n",
       "    <tr>\n",
       "      <th>3</th>\n",
       "      <td>1.0</td>\n",
       "      <td>151.5</td>\n",
       "      <td>58.5</td>\n",
       "      <td>41.3</td>\n",
       "    </tr>\n",
       "    <tr>\n",
       "      <th>185</th>\n",
       "      <td>1.0</td>\n",
       "      <td>205.0</td>\n",
       "      <td>19.6</td>\n",
       "      <td>45.1</td>\n",
       "    </tr>\n",
       "    <tr>\n",
       "      <th>26</th>\n",
       "      <td>1.0</td>\n",
       "      <td>142.9</td>\n",
       "      <td>12.6</td>\n",
       "      <td>29.3</td>\n",
       "    </tr>\n",
       "    <tr>\n",
       "      <th>90</th>\n",
       "      <td>1.0</td>\n",
       "      <td>134.3</td>\n",
       "      <td>9.3</td>\n",
       "      <td>4.9</td>\n",
       "    </tr>\n",
       "  </tbody>\n",
       "</table>\n",
       "</div>"
      ],
      "text/plain": [
       "     const     TV  Newspaper  Radio\n",
       "74     1.0  213.4       13.1   24.6\n",
       "3      1.0  151.5       58.5   41.3\n",
       "185    1.0  205.0       19.6   45.1\n",
       "26     1.0  142.9       12.6   29.3\n",
       "90     1.0  134.3        9.3    4.9"
      ]
     },
     "execution_count": 49,
     "metadata": {},
     "output_type": "execute_result"
    }
   ],
   "source": [
    "X_train_sm.head()"
   ]
  },
  {
   "cell_type": "code",
   "execution_count": 50,
   "id": "0588f181",
   "metadata": {},
   "outputs": [],
   "source": [
    "# Fit the resgression line using 'OLS'\n",
    "lr = sm.OLS(y_train, X_train_sm).fit()"
   ]
  },
  {
   "cell_type": "code",
   "execution_count": 51,
   "id": "cc21744d",
   "metadata": {},
   "outputs": [
    {
     "name": "stdout",
     "output_type": "stream",
     "text": [
      "                            OLS Regression Results                            \n",
      "==============================================================================\n",
      "Dep. Variable:                  Sales   R-squared:                       0.910\n",
      "Model:                            OLS   Adj. R-squared:                  0.909\n",
      "Method:                 Least Squares   F-statistic:                     461.2\n",
      "Date:                Mon, 11 Dec 2023   Prob (F-statistic):           4.73e-71\n",
      "Time:                        12:59:03   Log-Likelihood:                -270.60\n",
      "No. Observations:                 140   AIC:                             549.2\n",
      "Df Residuals:                     136   BIC:                             561.0\n",
      "Df Model:                           3                                         \n",
      "Covariance Type:            nonrobust                                         \n",
      "==============================================================================\n",
      "                 coef    std err          t      P>|t|      [0.025      0.975]\n",
      "------------------------------------------------------------------------------\n",
      "const          4.3346      0.357     12.139      0.000       3.628       5.041\n",
      "TV             0.0538      0.002     34.539      0.000       0.051       0.057\n",
      "Newspaper      0.0063      0.007      0.902      0.369      -0.008       0.020\n",
      "Radio          0.1100      0.010     10.609      0.000       0.090       0.131\n",
      "==============================================================================\n",
      "Omnibus:                       18.669   Durbin-Watson:                   2.069\n",
      "Prob(Omnibus):                  0.000   Jarque-Bera (JB):               31.404\n",
      "Skew:                          -0.643   Prob(JB):                     1.52e-07\n",
      "Kurtosis:                       4.932   Cond. No.                         443.\n",
      "==============================================================================\n",
      "\n",
      "Notes:\n",
      "[1] Standard Errors assume that the covariance matrix of the errors is correctly specified.\n"
     ]
    }
   ],
   "source": [
    "# Performing a summary operation lists out all the different parameters of the regression line fitted\n",
    "print(lr.summary())"
   ]
  },
  {
   "cell_type": "code",
   "execution_count": 53,
   "id": "66642536",
   "metadata": {},
   "outputs": [],
   "source": [
    "# note : R-squared:                       0.910  i.e 91%"
   ]
  },
  {
   "cell_type": "code",
   "execution_count": 54,
   "id": "28b9f7e5",
   "metadata": {},
   "outputs": [
    {
     "data": {
      "text/plain": [
       "const        4.334596\n",
       "TV           0.053829\n",
       "Newspaper    0.006290\n",
       "Radio        0.110012\n",
       "dtype: float64"
      ]
     },
     "execution_count": 54,
     "metadata": {},
     "output_type": "execute_result"
    }
   ],
   "source": [
    "# Print the parameters, i.e. the intercept and the slope of the regression line fitted\n",
    "lr.params"
   ]
  },
  {
   "cell_type": "code",
   "execution_count": 57,
   "id": "fa374863",
   "metadata": {},
   "outputs": [],
   "source": [
    "# Tell me any one observation you can see in this OLS summary \n",
    "\n",
    "# Here we see that p value < 0.05 or p value > 0.05\n",
    "\n",
    "# pvalue > 0.05 for Newspaper so we will remove this as it is insignificant variable\n",
    "\n",
    "# if we remove it lets see will R Sqr gets change or not now it is 91%."
   ]
  },
  {
   "cell_type": "code",
   "execution_count": 58,
   "id": "f36e1963",
   "metadata": {},
   "outputs": [],
   "source": [
    "# Removing newspaper \n",
    "\n",
    "X = advertising[['TV','Radio']]\n",
    "y = advertising['Sales']"
   ]
  },
  {
   "cell_type": "markdown",
   "id": "fbf3d3d3",
   "metadata": {},
   "source": [
    "#### Train-Test Split"
   ]
  },
  {
   "cell_type": "code",
   "execution_count": 59,
   "id": "67848c39",
   "metadata": {},
   "outputs": [],
   "source": [
    "from sklearn.model_selection import train_test_split\n",
    "X_train, X_test, y_train, y_test = train_test_split(X, y, \n",
    "                                                    train_size = 0.7,\n",
    "                                                    test_size = 0.3,\n",
    "                                                    random_state = 100)"
   ]
  },
  {
   "cell_type": "code",
   "execution_count": 60,
   "id": "d700a3ff",
   "metadata": {},
   "outputs": [
    {
     "data": {
      "text/html": [
       "<div>\n",
       "<style scoped>\n",
       "    .dataframe tbody tr th:only-of-type {\n",
       "        vertical-align: middle;\n",
       "    }\n",
       "\n",
       "    .dataframe tbody tr th {\n",
       "        vertical-align: top;\n",
       "    }\n",
       "\n",
       "    .dataframe thead th {\n",
       "        text-align: right;\n",
       "    }\n",
       "</style>\n",
       "<table border=\"1\" class=\"dataframe\">\n",
       "  <thead>\n",
       "    <tr style=\"text-align: right;\">\n",
       "      <th></th>\n",
       "      <th>TV</th>\n",
       "      <th>Radio</th>\n",
       "    </tr>\n",
       "  </thead>\n",
       "  <tbody>\n",
       "    <tr>\n",
       "      <th>74</th>\n",
       "      <td>213.4</td>\n",
       "      <td>24.6</td>\n",
       "    </tr>\n",
       "    <tr>\n",
       "      <th>3</th>\n",
       "      <td>151.5</td>\n",
       "      <td>41.3</td>\n",
       "    </tr>\n",
       "    <tr>\n",
       "      <th>185</th>\n",
       "      <td>205.0</td>\n",
       "      <td>45.1</td>\n",
       "    </tr>\n",
       "    <tr>\n",
       "      <th>26</th>\n",
       "      <td>142.9</td>\n",
       "      <td>29.3</td>\n",
       "    </tr>\n",
       "    <tr>\n",
       "      <th>90</th>\n",
       "      <td>134.3</td>\n",
       "      <td>4.9</td>\n",
       "    </tr>\n",
       "  </tbody>\n",
       "</table>\n",
       "</div>"
      ],
      "text/plain": [
       "        TV  Radio\n",
       "74   213.4   24.6\n",
       "3    151.5   41.3\n",
       "185  205.0   45.1\n",
       "26   142.9   29.3\n",
       "90   134.3    4.9"
      ]
     },
     "execution_count": 60,
     "metadata": {},
     "output_type": "execute_result"
    }
   ],
   "source": [
    "# Let's now take a look at the train dataset\n",
    "X_train.head()"
   ]
  },
  {
   "cell_type": "code",
   "execution_count": 61,
   "id": "265ead9b",
   "metadata": {},
   "outputs": [
    {
     "data": {
      "text/plain": [
       "74     17.0\n",
       "3      16.5\n",
       "185    22.6\n",
       "26     15.0\n",
       "90     14.0\n",
       "Name: Sales, dtype: float64"
      ]
     },
     "execution_count": 61,
     "metadata": {},
     "output_type": "execute_result"
    }
   ],
   "source": [
    "y_train.head()"
   ]
  },
  {
   "cell_type": "markdown",
   "id": "90895c2e",
   "metadata": {},
   "source": [
    "#### Building a Linear Model\n",
    "\n",
    "You first need to import the `statsmodel.api` library using which you'll perform the linear regression."
   ]
  },
  {
   "cell_type": "code",
   "execution_count": 63,
   "id": "06fb0a33",
   "metadata": {},
   "outputs": [],
   "source": [
    "import statsmodels.api as sm"
   ]
  },
  {
   "cell_type": "code",
   "execution_count": 64,
   "id": "de143d07",
   "metadata": {},
   "outputs": [],
   "source": [
    "# Add a constant to get an intercept\n",
    "X_train_sm = sm.add_constant(X_train)"
   ]
  },
  {
   "cell_type": "code",
   "execution_count": 65,
   "id": "f5c12601",
   "metadata": {},
   "outputs": [
    {
     "data": {
      "text/html": [
       "<div>\n",
       "<style scoped>\n",
       "    .dataframe tbody tr th:only-of-type {\n",
       "        vertical-align: middle;\n",
       "    }\n",
       "\n",
       "    .dataframe tbody tr th {\n",
       "        vertical-align: top;\n",
       "    }\n",
       "\n",
       "    .dataframe thead th {\n",
       "        text-align: right;\n",
       "    }\n",
       "</style>\n",
       "<table border=\"1\" class=\"dataframe\">\n",
       "  <thead>\n",
       "    <tr style=\"text-align: right;\">\n",
       "      <th></th>\n",
       "      <th>const</th>\n",
       "      <th>TV</th>\n",
       "      <th>Radio</th>\n",
       "    </tr>\n",
       "  </thead>\n",
       "  <tbody>\n",
       "    <tr>\n",
       "      <th>74</th>\n",
       "      <td>1.0</td>\n",
       "      <td>213.4</td>\n",
       "      <td>24.6</td>\n",
       "    </tr>\n",
       "    <tr>\n",
       "      <th>3</th>\n",
       "      <td>1.0</td>\n",
       "      <td>151.5</td>\n",
       "      <td>41.3</td>\n",
       "    </tr>\n",
       "    <tr>\n",
       "      <th>185</th>\n",
       "      <td>1.0</td>\n",
       "      <td>205.0</td>\n",
       "      <td>45.1</td>\n",
       "    </tr>\n",
       "    <tr>\n",
       "      <th>26</th>\n",
       "      <td>1.0</td>\n",
       "      <td>142.9</td>\n",
       "      <td>29.3</td>\n",
       "    </tr>\n",
       "    <tr>\n",
       "      <th>90</th>\n",
       "      <td>1.0</td>\n",
       "      <td>134.3</td>\n",
       "      <td>4.9</td>\n",
       "    </tr>\n",
       "  </tbody>\n",
       "</table>\n",
       "</div>"
      ],
      "text/plain": [
       "     const     TV  Radio\n",
       "74     1.0  213.4   24.6\n",
       "3      1.0  151.5   41.3\n",
       "185    1.0  205.0   45.1\n",
       "26     1.0  142.9   29.3\n",
       "90     1.0  134.3    4.9"
      ]
     },
     "execution_count": 65,
     "metadata": {},
     "output_type": "execute_result"
    }
   ],
   "source": [
    "X_train_sm.head()"
   ]
  },
  {
   "cell_type": "code",
   "execution_count": 66,
   "id": "8e41ffd7",
   "metadata": {},
   "outputs": [],
   "source": [
    "# Fit the resgression line using 'OLS'\n",
    "lr = sm.OLS(y_train, X_train_sm).fit()"
   ]
  },
  {
   "cell_type": "code",
   "execution_count": 67,
   "id": "cdc5f293",
   "metadata": {},
   "outputs": [
    {
     "name": "stdout",
     "output_type": "stream",
     "text": [
      "                            OLS Regression Results                            \n",
      "==============================================================================\n",
      "Dep. Variable:                  Sales   R-squared:                       0.910\n",
      "Model:                            OLS   Adj. R-squared:                  0.909\n",
      "Method:                 Least Squares   F-statistic:                     692.3\n",
      "Date:                Mon, 11 Dec 2023   Prob (F-statistic):           2.38e-72\n",
      "Time:                        13:21:50   Log-Likelihood:                -271.02\n",
      "No. Observations:                 140   AIC:                             548.0\n",
      "Df Residuals:                     137   BIC:                             556.9\n",
      "Df Model:                           2                                         \n",
      "Covariance Type:            nonrobust                                         \n",
      "==============================================================================\n",
      "                 coef    std err          t      P>|t|      [0.025      0.975]\n",
      "------------------------------------------------------------------------------\n",
      "const          4.4251      0.342     12.923      0.000       3.748       5.102\n",
      "TV             0.0540      0.002     34.848      0.000       0.051       0.057\n",
      "Radio          0.1137      0.010     11.970      0.000       0.095       0.133\n",
      "==============================================================================\n",
      "Omnibus:                       21.428   Durbin-Watson:                   2.066\n",
      "Prob(Omnibus):                  0.000   Jarque-Bera (JB):               37.728\n",
      "Skew:                          -0.716   Prob(JB):                     6.42e-09\n",
      "Kurtosis:                       5.102   Cond. No.                         419.\n",
      "==============================================================================\n",
      "\n",
      "Notes:\n",
      "[1] Standard Errors assume that the covariance matrix of the errors is correctly specified.\n"
     ]
    }
   ],
   "source": [
    "# Performing a summary operation lists out all the different parameters of the regression line fitted\n",
    "print(lr.summary())"
   ]
  },
  {
   "cell_type": "code",
   "execution_count": 69,
   "id": "6f8c835c",
   "metadata": {},
   "outputs": [],
   "source": [
    "# Note : R Sqr -> 91% same and Pvalue of all variables is < 0.05\n",
    "# we removed because newspaper was insignificant"
   ]
  },
  {
   "cell_type": "markdown",
   "id": "9ff43552",
   "metadata": {},
   "source": [
    "### Predicting"
   ]
  },
  {
   "cell_type": "markdown",
   "id": "170a355d",
   "metadata": {},
   "source": [
    "#### my fit model is stored in lr."
   ]
  },
  {
   "cell_type": "markdown",
   "id": "dc1a00aa",
   "metadata": {},
   "source": [
    "## Model Evaluation"
   ]
  },
  {
   "cell_type": "markdown",
   "id": "badbcb00",
   "metadata": {},
   "source": [
    "### Residual analysis \n",
    "To validate assumptions of the model, and hence the reliability for inference"
   ]
  },
  {
   "cell_type": "markdown",
   "id": "f0bdc0eb",
   "metadata": {},
   "source": [
    "#### Distribution of the error terms\n",
    "We need to check if the error terms are also normally distributed (which is infact, one of the major assumptions of linear regression), let us plot the histogram of the error terms and see what it looks like."
   ]
  },
  {
   "cell_type": "code",
   "execution_count": 74,
   "id": "2a0e59ee",
   "metadata": {},
   "outputs": [
    {
     "data": {
      "text/plain": [
       "74     18.741673\n",
       "3      17.300077\n",
       "185    20.620014\n",
       "26     15.470964\n",
       "90     12.231434\n",
       "dtype: float64"
      ]
     },
     "execution_count": 74,
     "metadata": {},
     "output_type": "execute_result"
    }
   ],
   "source": [
    "y_train_pred = lr.predict(X_train_sm)\n",
    "y_train_pred[:5]"
   ]
  },
  {
   "cell_type": "code",
   "execution_count": 75,
   "id": "6fb23065",
   "metadata": {},
   "outputs": [],
   "source": [
    "res = (y_train - y_train_pred)"
   ]
  },
  {
   "cell_type": "code",
   "execution_count": 76,
   "id": "ada55806",
   "metadata": {},
   "outputs": [
    {
     "data": {
      "image/png": "[encoded data removed]",
      "text/plain": [
       "<Figure size 432x288 with 1 Axes>"
      ]
     },
     "metadata": {
      "needs_background": "light"
     },
     "output_type": "display_data"
    }
   ],
   "source": [
    "fig = plt.figure()\n",
    "sns.distplot(res, bins = 15)\n",
    "fig.suptitle('Error Terms', fontsize = 15)                  # Plot heading \n",
    "plt.xlabel('y_train - y_train_pred', fontsize = 15)         # X-label\n",
    "plt.show()"
   ]
  },
  {
   "cell_type": "markdown",
   "id": "6f35bdde",
   "metadata": {},
   "source": [
    "The residuals are following the normally distributed with a mean 0. All good!"
   ]
  },
  {
   "cell_type": "markdown",
   "id": "5836a687",
   "metadata": {},
   "source": [
    "#### Predictions on the Test Set"
   ]
  },
  {
   "cell_type": "markdown",
   "id": "fe68c495",
   "metadata": {},
   "source": [
    "Now that you have fitted a regression line on your train dataset, it's time to make some predictions on the test data. For this, you first need to add a constant to the X_test data like you did for X_train and then you can simply go on and predict the y values corresponding to X_test using the predict attribute of the fitted regression line."
   ]
  },
  {
   "cell_type": "code",
   "execution_count": 77,
   "id": "165bfae7",
   "metadata": {},
   "outputs": [],
   "source": [
    "# Add a constant to X_test\n",
    "X_test_sm = sm.add_constant(X_test)\n"
   ]
  },
  {
   "cell_type": "code",
   "execution_count": 78,
   "id": "da327f1d",
   "metadata": {},
   "outputs": [],
   "source": [
    "# Predict the y values corresponding to X_test_sm\n",
    "y_pred = lr.predict(X_test_sm)"
   ]
  },
  {
   "cell_type": "code",
   "execution_count": 79,
   "id": "a49a0e38",
   "metadata": {},
   "outputs": [
    {
     "data": {
      "text/plain": [
       "126     9.270753\n",
       "104    21.183587\n",
       "99     16.465767\n",
       "92     19.986086\n",
       "111    21.793353\n",
       "dtype: float64"
      ]
     },
     "execution_count": 79,
     "metadata": {},
     "output_type": "execute_result"
    }
   ],
   "source": [
    "y_pred.head()"
   ]
  },
  {
   "cell_type": "code",
   "execution_count": 80,
   "id": "e91d283e",
   "metadata": {},
   "outputs": [],
   "source": [
    "from sklearn.metrics import mean_squared_error\n",
    "from sklearn.metrics import r2_score"
   ]
  },
  {
   "cell_type": "markdown",
   "id": "8e34557a",
   "metadata": {},
   "source": [
    "##### Looking at the MSE"
   ]
  },
  {
   "cell_type": "code",
   "execution_count": 83,
   "id": "2965504b",
   "metadata": {},
   "outputs": [
    {
     "data": {
      "text/plain": [
       "2.55"
      ]
     },
     "execution_count": 83,
     "metadata": {},
     "output_type": "execute_result"
    }
   ],
   "source": [
    "#Returns the mean squared error; we'll take a square root\n",
    "(mean_squared_error(y_test, y_pred)).round(2)"
   ]
  },
  {
   "cell_type": "markdown",
   "id": "eff0471a",
   "metadata": {},
   "source": [
    "##### Looking at the RMSE"
   ]
  },
  {
   "cell_type": "code",
   "execution_count": 86,
   "id": "65c92e42",
   "metadata": {},
   "outputs": [
    {
     "data": {
      "text/plain": [
       "1.6"
      ]
     },
     "execution_count": 86,
     "metadata": {},
     "output_type": "execute_result"
    }
   ],
   "source": [
    "#Returns the mean squared error; we'll take a square root\n",
    "np.sqrt(mean_squared_error(y_test,y_pred)).round(2)"
   ]
  },
  {
   "cell_type": "code",
   "execution_count": 87,
   "id": "ad75c849",
   "metadata": {},
   "outputs": [
    {
     "data": {
      "text/plain": [
       "0.07985160679464588"
      ]
     },
     "execution_count": 87,
     "metadata": {},
     "output_type": "execute_result"
    }
   ],
   "source": [
    "#Returns the mean absolute_percentage error\n",
    "from sklearn.metrics import mean_absolute_percentage_error\n",
    "mean_absolute_percentage_error(y_test,y_pred)"
   ]
  },
  {
   "cell_type": "markdown",
   "id": "c7e270ad",
   "metadata": {},
   "source": [
    "###### Checking the R-squared on the test set"
   ]
  },
  {
   "cell_type": "code",
   "execution_count": 88,
   "id": "2092c47e",
   "metadata": {},
   "outputs": [
    {
     "data": {
      "text/plain": [
       "0.8702269065022534"
      ]
     },
     "execution_count": 88,
     "metadata": {},
     "output_type": "execute_result"
    }
   ],
   "source": [
    "r_squared = r2_score(y_test, y_pred)\n",
    "r_squared"
   ]
  },
  {
   "cell_type": "markdown",
   "id": "fdd08db0",
   "metadata": {},
   "source": [
    "Mean squared error and Root mean squared error (RMSE), R-Squared and Adjusted R- squared,\n",
    "\n",
    "\n",
    "LR : finds the best fit line which minimizes the errors (optimal value of m and c)\n",
    "ypred is close yact error is low)\n",
    "\n",
    "Assumptions of l.r.\n",
    "1) linearity\n",
    "2) Minimizes multi - .corr/VIF\n",
    "3) Error terms:\n",
    "a. normally distributed\n",
    "b. no autocorrelation\n",
    "c. constant variance\n",
    "\n",
    "Evaluation metrics :.\n",
    "1. Rsq: how much variance in y is being explained by x\n",
    "    disadv. rsq always increases when we add insignificant\"x\" variances.\n",
    "2. Adj. rsq. :  penalizes the no of predictirs.\n",
    "3. Mean abs. Error (m.a.e)\n",
    "4. mean sqd. Error (m.s.e)\n",
    "5. root m.S.E"
   ]
  },
  {
   "cell_type": "code",
   "execution_count": null,
   "id": "db727a28",
   "metadata": {},
   "outputs": [],
   "source": []
  }
 ],
 "metadata": {
  "kernelspec": {
   "display_name": "Python 3",
   "language": "python",
   "name": "python3"
  },
  "language_info": {
   "codemirror_mode": {
    "name": "ipython",
    "version": 3
   },
   "file_extension": ".py",
   "mimetype": "text/x-python",
   "name": "python",
   "nbconvert_exporter": "python",
   "pygments_lexer": "ipython3",
   "version": "3.8.8"
  }
 },
 "nbformat": 4,
 "nbformat_minor": 5
}
