{
  "nbformat": 4,
  "nbformat_minor": 0,
  "metadata": {
    "colab": {
      "name": "5.1.5. Vector Operations - in Python.ipynb",
      "provenance": [],
      "authorship_tag": "ABX9TyOupjLp/fZsyWYILn8bhTRq",
      "include_colab_link": true
    },
    "kernelspec": {
      "name": "python3",
      "display_name": "Python 3"
    },
    "language_info": {
      "name": "python"
    }
  },
  "cells": [
    {
      "cell_type": "markdown",
      "metadata": {
        "id": "view-in-github",
        "colab_type": "text"
      },
      "source": [
        "<a href=\"https://colab.research.google.com/github/SyedImranML/Machine-Learning/blob/main/5_1%20Vector_Operations_in_Python.ipynb\" target=\"_parent\"><img src=\"https://colab.research.google.com/assets/colab-badge.svg\" alt=\"Open In Colab\"/></a>"
      ]
    },
    {
      "cell_type": "markdown",
      "source": [
        "5.1.5. Vector Operations Dot Product | Cross Product | Projection of vector- in Python"
      ],
      "metadata": {
        "id": "DQCVzCg83xQa"
      }
    },
    {
      "cell_type": "code",
      "source": [
        "import numpy as np"
      ],
      "metadata": {
        "id": "gjB4GkqG32Bx"
      },
      "execution_count": 1,
      "outputs": []
    },
    {
      "cell_type": "markdown",
      "source": [
        "Dot Product of 2 Vectors"
      ],
      "metadata": {
        "id": "6s0O1w2W4j9C"
      }
    },
    {
      "cell_type": "code",
      "source": [
        "a = np.array([2, 3])\n",
        "\n",
        "b = np.array([4, 4])\n",
        "\n",
        "a_dot_b = np.dot(a, b)"
      ],
      "metadata": {
        "id": "_H6KOess4lG3"
      },
      "execution_count": 2,
      "outputs": []
    },
    {
      "cell_type": "code",
      "source": [
        "print(a_dot_b)"
      ],
      "metadata": {
        "colab": {
          "base_uri": "https://localhost:8080/"
        },
        "id": "gMKomNxe4y-s",
        "outputId": "4fa45545-43a8-407e-cea5-7a79fdcc44a3"
      },
      "execution_count": 3,
      "outputs": [
        {
          "output_type": "stream",
          "name": "stdout",
          "text": [
            "20\n"
          ]
        }
      ]
    },
    {
      "cell_type": "code",
      "source": [
        "c = np.array([40, 20, 35])\n",
        "\n",
        "d = np.array([53, 24, 68])\n",
        "\n",
        "c_dot_d = np.dot(c, d)"
      ],
      "metadata": {
        "id": "_C0sgqJe5FCH"
      },
      "execution_count": 4,
      "outputs": []
    },
    {
      "cell_type": "code",
      "source": [
        "print(c_dot_d)"
      ],
      "metadata": {
        "colab": {
          "base_uri": "https://localhost:8080/"
        },
        "id": "ztJy-x4H5SRs",
        "outputId": "aa3353c3-52a8-4edb-e056-304c77f749c7"
      },
      "execution_count": 5,
      "outputs": [
        {
          "output_type": "stream",
          "name": "stdout",
          "text": [
            "4980\n"
          ]
        }
      ]
    },
    {
      "cell_type": "markdown",
      "source": [
        "Cross Product of 2 Vectors"
      ],
      "metadata": {
        "id": "437RzbRY56Mk"
      }
    },
    {
      "cell_type": "code",
      "source": [
        "a = np.array([2, 3])\n",
        "\n",
        "b = np.array([4, 4])\n",
        "\n",
        "a_cross_b = np.cross(a, b)"
      ],
      "metadata": {
        "id": "0VbtvKis52br"
      },
      "execution_count": 6,
      "outputs": []
    },
    {
      "cell_type": "code",
      "source": [
        "print(a_cross_b)"
      ],
      "metadata": {
        "colab": {
          "base_uri": "https://localhost:8080/"
        },
        "id": "dfrGtWeT5_dL",
        "outputId": "a8a8fe34-da0e-495a-eec7-528bba63e18f"
      },
      "execution_count": 7,
      "outputs": [
        {
          "output_type": "stream",
          "name": "stdout",
          "text": [
            "-4\n"
          ]
        }
      ]
    },
    {
      "cell_type": "code",
      "source": [
        "c = np.array([5, 10, 20])\n",
        "\n",
        "d = np.array([18, 32, 50])\n",
        "\n",
        "c_cross_d = np.cross(c, d)"
      ],
      "metadata": {
        "id": "iO9Br5hP6D7M"
      },
      "execution_count": 8,
      "outputs": []
    },
    {
      "cell_type": "code",
      "source": [
        "print(c_cross_d)"
      ],
      "metadata": {
        "colab": {
          "base_uri": "https://localhost:8080/"
        },
        "id": "NDrTkqM16Mot",
        "outputId": "53f930f7-6f0d-4956-8389-27a7beee9a7a"
      },
      "execution_count": 9,
      "outputs": [
        {
          "output_type": "stream",
          "name": "stdout",
          "text": [
            "[-140  110  -20]\n"
          ]
        }
      ]
    },
    {
      "cell_type": "markdown",
      "source": [
        "Projection of \"a\" vector on \"v\" vector\n",
        "\n"
      ],
      "metadata": {
        "id": "9sqdkxi76Wzy"
      }
    },
    {
      "cell_type": "markdown",
      "source": [
        "![image.png](data:image/png;base64,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)"
      ],
      "metadata": {
        "id": "A7-Nnhjz6fVg"
      }
    },
    {
      "cell_type": "code",
      "source": [
        "a = np.array([2, 5])\n",
        "\n",
        "v = np.array([8, -6])\n",
        "\n",
        "# magnitude of \"v\" vector\n",
        "magnitude_of_v = np.sqrt(sum(v**2))\n",
        "\n",
        "proj_of_a_on_v = (np.dot(a,v)/magnitude_of_v**2)*v \n",
        "\n",
        "print('Projection of a vector on v vector = ', proj_of_a_on_v)"
      ],
      "metadata": {
        "colab": {
          "base_uri": "https://localhost:8080/"
        },
        "id": "63VbtJtu6X-N",
        "outputId": "32dc7e32-8603-4ae2-ecbd-9bacb5ffa525"
      },
      "execution_count": 10,
      "outputs": [
        {
          "output_type": "stream",
          "name": "stdout",
          "text": [
            "Projection of a vector on v vector =  [-1.12  0.84]\n"
          ]
        }
      ]
    },
    {
      "cell_type": "code",
      "source": [
        " a = np.array([23, 45, 62])\n",
        "\n",
        "v = np.array([45, 82, 67])\n",
        "\n",
        "# magnitude of \"v\" vector\n",
        "magnitude_of_v = np.sqrt(sum(v**2))\n",
        "\n",
        "proj_of_a_on_v = (np.dot(a,v)/magnitude_of_v**2)*v \n",
        "\n",
        "print('Projection of a vector on v vector = ', proj_of_a_on_v)"
      ],
      "metadata": {
        "colab": {
          "base_uri": "https://localhost:8080/"
        },
        "id": "kqxrc9pI6t5R",
        "outputId": "5e7129fc-b599-4e0a-dad7-de6ec36081f4"
      },
      "execution_count": 12,
      "outputs": [
        {
          "output_type": "stream",
          "name": "stdout",
          "text": [
            "Projection of a vector on v vector =  [30.18242937 54.99909352 44.93828373]\n"
          ]
        }
      ]
    },
    {
      "cell_type": "code",
      "source": [
        ""
      ],
      "metadata": {
        "id": "m66QB_Od6OSh"
      },
      "execution_count": null,
      "outputs": []
    }
  ]
}