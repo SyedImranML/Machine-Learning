{
 "cells": [
  {
   "cell_type": "markdown",
   "id": "75631ab4",
   "metadata": {},
   "source": [
    "## NumPy - Numerical python"
   ]
  },
  {
   "cell_type": "markdown",
   "id": "3e5df531",
   "metadata": {},
   "source": [
    "#### Hands on NumPy in Python"
   ]
  },
  {
   "cell_type": "markdown",
   "id": "4ac0fca9",
   "metadata": {},
   "source": [
    "* Numpy is the most important library in python\n",
    "  which is used in several domains like machine learning ,Data Science etc.\n",
    "* Numpy is basically used for numerical operations\n",
    "\n",
    "\n",
    "Advantages of NumPy Arrays\n",
    "1. Allows several Mathematical operations\n",
    "2. Faster operations"
   ]
  },
  {
   "cell_type": "code",
   "execution_count": 1,
   "id": "e2cca6d0",
   "metadata": {},
   "outputs": [],
   "source": [
    "import numpy as np"
   ]
  },
  {
   "cell_type": "markdown",
   "id": "fbc87fdd",
   "metadata": {},
   "source": [
    "###### List Vs. Numpy- Time Taken"
   ]
  },
  {
   "cell_type": "code",
   "execution_count": 2,
   "id": "7b2f4ea1",
   "metadata": {},
   "outputs": [],
   "source": [
    "from time import process_time"
   ]
  },
  {
   "cell_type": "markdown",
   "id": "9e75c0c7",
   "metadata": {},
   "source": [
    "Time Taken by a List"
   ]
  },
  {
   "cell_type": "code",
   "execution_count": 17,
   "id": "26635432",
   "metadata": {},
   "outputs": [
    {
     "name": "stdout",
     "output_type": "stream",
     "text": [
      "0.0\n"
     ]
    }
   ],
   "source": [
    "python_list = [ i for i in range(10000)]\n",
    "start_time = process_time()\n",
    "python_list = [ i +5 for i in python_list]\n",
    "end_time = process_time()\n",
    "print(end_time - start_time)"
   ]
  },
  {
   "cell_type": "code",
   "execution_count": 19,
   "id": "a7ab131a",
   "metadata": {},
   "outputs": [
    {
     "name": "stdout",
     "output_type": "stream",
     "text": [
      "0.0\n"
     ]
    }
   ],
   "source": [
    "np_array=np.array([i for i in range(10000)])\n",
    "start_time = process_time()\n",
    "np_array +=5\n",
    "end_time = process_time()\n",
    "print(end_time - start_time)"
   ]
  },
  {
   "cell_type": "markdown",
   "id": "3bbcf522",
   "metadata": {},
   "source": [
    "Numpy Array"
   ]
  },
  {
   "cell_type": "code",
   "execution_count": 20,
   "id": "f09180ed",
   "metadata": {},
   "outputs": [
    {
     "name": "stdout",
     "output_type": "stream",
     "text": [
      "[1, 2, 3, 4, 5]\n"
     ]
    },
    {
     "data": {
      "text/plain": [
       "list"
      ]
     },
     "execution_count": 20,
     "metadata": {},
     "output_type": "execute_result"
    }
   ],
   "source": [
    "# List example \n",
    "list1 = [1,2,3,4,5]\n",
    "print(list1)\n",
    "type(list1)"
   ]
  },
  {
   "cell_type": "markdown",
   "id": "b482874c",
   "metadata": {},
   "source": [
    "In case of list elements are separated by comma and datatype is list"
   ]
  },
  {
   "cell_type": "code",
   "execution_count": 21,
   "id": "76299f06",
   "metadata": {},
   "outputs": [
    {
     "name": "stdout",
     "output_type": "stream",
     "text": [
      "[1 2 3 4 5]\n"
     ]
    },
    {
     "data": {
      "text/plain": [
       "numpy.ndarray"
      ]
     },
     "execution_count": 21,
     "metadata": {},
     "output_type": "execute_result"
    }
   ],
   "source": [
    "# Example of numpy array\n",
    "np_array = np.array([1,2,3,4,5])\n",
    "print(np_array)\n",
    "type(np_array)"
   ]
  },
  {
   "cell_type": "markdown",
   "id": "fac1c11c",
   "metadata": {},
   "source": [
    "In case of numpy array elements are separated by space and datatype is numpy.ndarray\n",
    "here ndarray - nd represents n dimension array"
   ]
  },
  {
   "cell_type": "markdown",
   "id": "ba309c67",
   "metadata": {},
   "source": [
    "Arrays are similar to matrix which consist of rows and columns"
   ]
  },
  {
   "cell_type": "markdown",
   "id": "f94b8094",
   "metadata": {},
   "source": [
    "#### Creating a 1 dimension array"
   ]
  },
  {
   "cell_type": "code",
   "execution_count": 22,
   "id": "fb8ed119",
   "metadata": {},
   "outputs": [
    {
     "name": "stdout",
     "output_type": "stream",
     "text": [
      "[1 2 3 4]\n"
     ]
    }
   ],
   "source": [
    "a=np.array([1,2,3,4])\n",
    "print(a)"
   ]
  },
  {
   "cell_type": "code",
   "execution_count": 23,
   "id": "bb4dd70a",
   "metadata": {},
   "outputs": [
    {
     "data": {
      "text/plain": [
       "(4,)"
      ]
     },
     "execution_count": 23,
     "metadata": {},
     "output_type": "execute_result"
    }
   ],
   "source": [
    "a.shape"
   ]
  },
  {
   "cell_type": "code",
   "execution_count": 24,
   "id": "2f40f43d",
   "metadata": {},
   "outputs": [
    {
     "name": "stdout",
     "output_type": "stream",
     "text": [
      "[[1 2 3 4]\n",
      " [5 6 7 8]]\n"
     ]
    }
   ],
   "source": [
    "# 2 dimension array\n",
    "b=np.array([(1,2,3,4),(5,6,7,8)])\n",
    "print(b)"
   ]
  },
  {
   "cell_type": "markdown",
   "id": "1a7f8511",
   "metadata": {},
   "source": [
    "It is similar to 2x4 matrix that contain 2 rows & 4 columns"
   ]
  },
  {
   "cell_type": "code",
   "execution_count": 25,
   "id": "c6189978",
   "metadata": {},
   "outputs": [
    {
     "data": {
      "text/plain": [
       "(2, 4)"
      ]
     },
     "execution_count": 25,
     "metadata": {},
     "output_type": "execute_result"
    }
   ],
   "source": [
    "b.shape"
   ]
  },
  {
   "cell_type": "markdown",
   "id": "14249e22",
   "metadata": {},
   "source": [
    "here 2 is no of rows and 4 is no. of columns - by default value is integer type"
   ]
  },
  {
   "cell_type": "code",
   "execution_count": 26,
   "id": "3d9b58d6",
   "metadata": {},
   "outputs": [
    {
     "name": "stdout",
     "output_type": "stream",
     "text": [
      "[[1. 2. 3. 4.]\n",
      " [5. 6. 7. 8.]]\n"
     ]
    }
   ],
   "source": [
    "# Example - 3\n",
    "c= np.array([(1,2,3,4),(5,6,7,8)], dtype=float)\n",
    "print(c)"
   ]
  },
  {
   "cell_type": "code",
   "execution_count": 27,
   "id": "84df3936",
   "metadata": {},
   "outputs": [
    {
     "name": "stdout",
     "output_type": "stream",
     "text": [
      "[[1.3 2.  3.  4. ]\n",
      " [5.6 6.  7.  8. ]]\n"
     ]
    }
   ],
   "source": [
    "d= np.array([(1.3,2,3,4),(5.6,6,7,8)])\n",
    "print(d)"
   ]
  },
  {
   "cell_type": "markdown",
   "id": "cb7dda11",
   "metadata": {},
   "source": [
    "Initial Placeholder in numpy arrays\n"
   ]
  },
  {
   "cell_type": "code",
   "execution_count": 29,
   "id": "9f2a4988",
   "metadata": {},
   "outputs": [
    {
     "name": "stdout",
     "output_type": "stream",
     "text": [
      "[[0. 0. 0. 0. 0.]\n",
      " [0. 0. 0. 0. 0.]\n",
      " [0. 0. 0. 0. 0.]\n",
      " [0. 0. 0. 0. 0.]]\n"
     ]
    }
   ],
   "source": [
    "# creating a numpy array of zeros\n",
    "x=np.zeros((4,5))\n",
    "print(x)"
   ]
  },
  {
   "cell_type": "code",
   "execution_count": 30,
   "id": "88cc8cee",
   "metadata": {},
   "outputs": [
    {
     "name": "stdout",
     "output_type": "stream",
     "text": [
      "[[1. 1. 1.]\n",
      " [1. 1. 1.]\n",
      " [1. 1. 1.]]\n"
     ]
    }
   ],
   "source": [
    "# Creating a numpy array of ones.\n",
    "y=np.ones((3,3))\n",
    "print(y)"
   ]
  },
  {
   "cell_type": "code",
   "execution_count": 31,
   "id": "9a8a4627",
   "metadata": {},
   "outputs": [
    {
     "name": "stdout",
     "output_type": "stream",
     "text": [
      "[[5 5 5 5]\n",
      " [5 5 5 5]\n",
      " [5 5 5 5]\n",
      " [5 5 5 5]\n",
      " [5 5 5 5]]\n"
     ]
    }
   ],
   "source": [
    "# Array of a particular value\n",
    "z= np.full((5,4),5)\n",
    "print(z)"
   ]
  },
  {
   "cell_type": "code",
   "execution_count": 32,
   "id": "5bd3d06e",
   "metadata": {},
   "outputs": [
    {
     "name": "stdout",
     "output_type": "stream",
     "text": [
      "[[1. 0. 0. 0.]\n",
      " [0. 1. 0. 0.]\n",
      " [0. 0. 1. 0.]\n",
      " [0. 0. 0. 1.]]\n"
     ]
    }
   ],
   "source": [
    "# Creating an identity matrix = > no of rows and columns should be equal\n",
    "a=np.eye(4)\n",
    "print(a)"
   ]
  },
  {
   "cell_type": "code",
   "execution_count": 33,
   "id": "1eeed944",
   "metadata": {},
   "outputs": [
    {
     "name": "stdout",
     "output_type": "stream",
     "text": [
      "[[1. 0. 0. 0. 0.]\n",
      " [0. 1. 0. 0. 0.]\n",
      " [0. 0. 1. 0. 0.]\n",
      " [0. 0. 0. 1. 0.]\n",
      " [0. 0. 0. 0. 1.]]\n"
     ]
    }
   ],
   "source": [
    "a=np.eye(5)\n",
    "print(a)"
   ]
  },
  {
   "cell_type": "code",
   "execution_count": 34,
   "id": "92a9fcf3",
   "metadata": {},
   "outputs": [
    {
     "name": "stdout",
     "output_type": "stream",
     "text": [
      "[[0.94191302 0.1693536  0.99632725 0.3480471 ]\n",
      " [0.0255178  0.2971465  0.95162363 0.51994407]\n",
      " [0.14579563 0.32089924 0.13193654 0.72441206]]\n"
     ]
    }
   ],
   "source": [
    "# Creating a numpy arraywith random values\n",
    "b=np.random.random((3,4))\n",
    "print(b)"
   ]
  },
  {
   "cell_type": "markdown",
   "id": "bdbdf419",
   "metadata": {},
   "source": [
    "Note : the values are between 0 & 1 whenever you run the values get change again\n",
    "    between 0& 1"
   ]
  },
  {
   "cell_type": "code",
   "execution_count": 35,
   "id": "7019889c",
   "metadata": {},
   "outputs": [
    {
     "name": "stdout",
     "output_type": "stream",
     "text": [
      "[[91 56 83 76 27]\n",
      " [69 76 81 88 45]\n",
      " [31 81 66 15 77]]\n"
     ]
    }
   ],
   "source": [
    "# random integer values array within a specific range\n",
    "c=np.random.randint(10,100,(3,5))\n",
    "print(c)"
   ]
  },
  {
   "cell_type": "code",
   "execution_count": 37,
   "id": "060ffdb8",
   "metadata": {},
   "outputs": [
    {
     "name": "stdout",
     "output_type": "stream",
     "text": [
      "[10. 15. 20. 25. 30.]\n"
     ]
    }
   ],
   "source": [
    "# array of evenly spaced values -->specifying the number of values required\n",
    "d=np.linspace(10,30,5)\n",
    "print(d)"
   ]
  },
  {
   "cell_type": "code",
   "execution_count": 38,
   "id": "3622b8ed",
   "metadata": {},
   "outputs": [
    {
     "name": "stdout",
     "output_type": "stream",
     "text": [
      "[10. 14. 18. 22. 26. 30.]\n"
     ]
    }
   ],
   "source": [
    "d=np.linspace(10,30,6)\n",
    "print(d)"
   ]
  },
  {
   "cell_type": "code",
   "execution_count": 40,
   "id": "3892b6f8",
   "metadata": {},
   "outputs": [
    {
     "name": "stdout",
     "output_type": "stream",
     "text": [
      "[10 15 20 25]\n"
     ]
    }
   ],
   "source": [
    "# array of evenly spaced values -->specifying the step\n",
    "e=np.arange(10,30,5)\n",
    "print(e)"
   ]
  },
  {
   "cell_type": "code",
   "execution_count": 43,
   "id": "463025e3",
   "metadata": {},
   "outputs": [
    {
     "name": "stdout",
     "output_type": "stream",
     "text": [
      "[10 20 20 30 40]\n"
     ]
    },
    {
     "data": {
      "text/plain": [
       "numpy.ndarray"
      ]
     },
     "execution_count": 43,
     "metadata": {},
     "output_type": "execute_result"
    }
   ],
   "source": [
    "# Convert a list to a numpy array\n",
    "list2 = [10,20,20,30,40]\n",
    "np_array=np.asarray(list2)\n",
    "print(np_array)\n",
    "type(np_array)\n"
   ]
  },
  {
   "cell_type": "code",
   "execution_count": 44,
   "id": "349d4449",
   "metadata": {},
   "outputs": [
    {
     "data": {
      "text/plain": [
       "(5,)"
      ]
     },
     "execution_count": 44,
     "metadata": {},
     "output_type": "execute_result"
    }
   ],
   "source": [
    "np_array.shape"
   ]
  },
  {
   "cell_type": "markdown",
   "id": "a03863de",
   "metadata": {},
   "source": [
    "#### Analysing a numpy array"
   ]
  },
  {
   "cell_type": "code",
   "execution_count": 46,
   "id": "6a66389a",
   "metadata": {},
   "outputs": [
    {
     "name": "stdout",
     "output_type": "stream",
     "text": [
      "[[71 79 63 17 28]\n",
      " [81 21 62 71 18]\n",
      " [52 67 28 16 37]\n",
      " [17 10 47 78 44]\n",
      " [44 53 38 78 73]]\n"
     ]
    }
   ],
   "source": [
    "c=np.random.randint(10,90,(5,5))\n",
    "print(c)"
   ]
  },
  {
   "cell_type": "code",
   "execution_count": 47,
   "id": "a5ab585a",
   "metadata": {},
   "outputs": [
    {
     "name": "stdout",
     "output_type": "stream",
     "text": [
      "(5, 5)\n"
     ]
    }
   ],
   "source": [
    "# array dimension\n",
    "print(c.shape)"
   ]
  },
  {
   "cell_type": "code",
   "execution_count": 50,
   "id": "0e87a332",
   "metadata": {},
   "outputs": [
    {
     "name": "stdout",
     "output_type": "stream",
     "text": [
      "2\n"
     ]
    }
   ],
   "source": [
    "# number of dimensions\n",
    "print(c.ndim) # 2d array"
   ]
  },
  {
   "cell_type": "code",
   "execution_count": 51,
   "id": "f8c7d300",
   "metadata": {},
   "outputs": [
    {
     "name": "stdout",
     "output_type": "stream",
     "text": [
      "[1 2 3 4]\n"
     ]
    }
   ],
   "source": [
    "a=np.array([1,2,3,4])\n",
    "print(a)"
   ]
  },
  {
   "cell_type": "code",
   "execution_count": 52,
   "id": "8c7799b8",
   "metadata": {},
   "outputs": [
    {
     "name": "stdout",
     "output_type": "stream",
     "text": [
      "1\n"
     ]
    }
   ],
   "source": [
    "print(a.ndim) # 1d array"
   ]
  },
  {
   "cell_type": "code",
   "execution_count": 53,
   "id": "b36f5b68",
   "metadata": {},
   "outputs": [
    {
     "name": "stdout",
     "output_type": "stream",
     "text": [
      "25\n"
     ]
    }
   ],
   "source": [
    "# number of elements in an array\n",
    "print(c.size)"
   ]
  },
  {
   "cell_type": "code",
   "execution_count": 54,
   "id": "c8b63373",
   "metadata": {},
   "outputs": [
    {
     "name": "stdout",
     "output_type": "stream",
     "text": [
      "int32\n"
     ]
    }
   ],
   "source": [
    "# checking  the datatype of the values in an array\n",
    "print(c.dtype)"
   ]
  },
  {
   "cell_type": "markdown",
   "id": "74ddc37c",
   "metadata": {},
   "source": [
    "#### Mathematical Operations on a np array\n"
   ]
  },
  {
   "cell_type": "code",
   "execution_count": 55,
   "id": "a9281181",
   "metadata": {},
   "outputs": [
    {
     "name": "stdout",
     "output_type": "stream",
     "text": [
      "[1, 2, 3, 4, 5, 6, 7, 8, 9, 10]\n"
     ]
    }
   ],
   "source": [
    "list1 = [1,2,3,4,5]\n",
    "list2 = [6,7,8,9,10]\n",
    "print(list1 + list2)  # concatenate (or) joins two list"
   ]
  },
  {
   "cell_type": "code",
   "execution_count": 56,
   "id": "87f670a3",
   "metadata": {},
   "outputs": [],
   "source": [
    "#using numpy array\n",
    "\n",
    "a=np.random.randint(0,10,(3,3))\n",
    "b=np.random.randint(10,20,(3,3))\n"
   ]
  },
  {
   "cell_type": "code",
   "execution_count": 57,
   "id": "2a50a661",
   "metadata": {},
   "outputs": [
    {
     "name": "stdout",
     "output_type": "stream",
     "text": [
      "[[1 8 4]\n",
      " [0 4 8]\n",
      " [5 9 0]]\n"
     ]
    }
   ],
   "source": [
    "print(a)"
   ]
  },
  {
   "cell_type": "code",
   "execution_count": 58,
   "id": "75126b07",
   "metadata": {},
   "outputs": [
    {
     "name": "stdout",
     "output_type": "stream",
     "text": [
      "[[10 19 19]\n",
      " [18 10 17]\n",
      " [10 16 10]]\n"
     ]
    }
   ],
   "source": [
    "print(b)"
   ]
  },
  {
   "cell_type": "code",
   "execution_count": 59,
   "id": "15bb2580",
   "metadata": {},
   "outputs": [
    {
     "name": "stdout",
     "output_type": "stream",
     "text": [
      "[[11 27 23]\n",
      " [18 14 25]\n",
      " [15 25 10]]\n"
     ]
    }
   ],
   "source": [
    "print(a + b)   # element wise addition ,subtraction .."
   ]
  },
  {
   "cell_type": "code",
   "execution_count": 60,
   "id": "cd5829e9",
   "metadata": {},
   "outputs": [
    {
     "name": "stdout",
     "output_type": "stream",
     "text": [
      "[[ -9 -11 -15]\n",
      " [-18  -6  -9]\n",
      " [ -5  -7 -10]]\n",
      "[[ 10 152  76]\n",
      " [  0  40 136]\n",
      " [ 50 144   0]]\n",
      "[[0.1        0.42105263 0.21052632]\n",
      " [0.         0.4        0.47058824]\n",
      " [0.5        0.5625     0.        ]]\n"
     ]
    }
   ],
   "source": [
    "print(a-b)\n",
    "print(a*b)\n",
    "print(a/b)"
   ]
  },
  {
   "cell_type": "code",
   "execution_count": 61,
   "id": "8b58e782",
   "metadata": {},
   "outputs": [],
   "source": [
    "#Another way of doing this\n",
    "\n",
    "a=np.random.randint(0,10,(3,3))\n",
    "b=np.random.randint(10,20,(3,3))\n"
   ]
  },
  {
   "cell_type": "code",
   "execution_count": 62,
   "id": "679490e9",
   "metadata": {},
   "outputs": [
    {
     "name": "stdout",
     "output_type": "stream",
     "text": [
      "[[6 5 4]\n",
      " [9 1 8]\n",
      " [8 5 3]]\n",
      "[[15 17 13]\n",
      " [14 11 19]\n",
      " [15 11 17]]\n"
     ]
    }
   ],
   "source": [
    "print(a)\n",
    "print(b)"
   ]
  },
  {
   "cell_type": "code",
   "execution_count": 63,
   "id": "4a69fcdf",
   "metadata": {},
   "outputs": [
    {
     "name": "stdout",
     "output_type": "stream",
     "text": [
      "[[21 22 17]\n",
      " [23 12 27]\n",
      " [23 16 20]]\n"
     ]
    }
   ],
   "source": [
    "print(np.add(a,b))"
   ]
  },
  {
   "cell_type": "code",
   "execution_count": 64,
   "id": "4025bf7b",
   "metadata": {},
   "outputs": [
    {
     "name": "stdout",
     "output_type": "stream",
     "text": [
      "[[ -9 -12  -9]\n",
      " [ -5 -10 -11]\n",
      " [ -7  -6 -14]]\n",
      "[[ 90  85  52]\n",
      " [126  11 152]\n",
      " [120  55  51]]\n",
      "[[0.4        0.29411765 0.30769231]\n",
      " [0.64285714 0.09090909 0.42105263]\n",
      " [0.53333333 0.45454545 0.17647059]]\n"
     ]
    }
   ],
   "source": [
    "print(np.subtract(a,b))\n",
    "print(np.multiply(a,b))\n",
    "print(np.divide(a,b))"
   ]
  },
  {
   "cell_type": "markdown",
   "id": "3a486ffc",
   "metadata": {},
   "source": [
    "#### Array Manipulation"
   ]
  },
  {
   "cell_type": "code",
   "execution_count": 65,
   "id": "6bc9779c",
   "metadata": {},
   "outputs": [
    {
     "name": "stdout",
     "output_type": "stream",
     "text": [
      "[[0 1 0]\n",
      " [6 6 6]]\n",
      "(2, 3)\n"
     ]
    }
   ],
   "source": [
    "array = np.random.randint(0,10,(2,3))\n",
    "print(array)\n",
    "print(array.shape)"
   ]
  },
  {
   "cell_type": "code",
   "execution_count": 66,
   "id": "9022e4e2",
   "metadata": {},
   "outputs": [
    {
     "name": "stdout",
     "output_type": "stream",
     "text": [
      "[[0 6]\n",
      " [1 6]\n",
      " [0 6]]\n",
      "(3, 2)\n"
     ]
    }
   ],
   "source": [
    "# transpose of matrix\n",
    "trans = np.transpose(array)\n",
    "print(trans)\n",
    "print(trans.shape)"
   ]
  },
  {
   "cell_type": "code",
   "execution_count": 67,
   "id": "84f9a5c1",
   "metadata": {},
   "outputs": [
    {
     "name": "stdout",
     "output_type": "stream",
     "text": [
      "[[9 4 3]\n",
      " [6 0 4]]\n",
      "(2, 3)\n"
     ]
    }
   ],
   "source": [
    "array = np.random.randint(0,10,(2,3))\n",
    "print(array)\n",
    "print(array.shape)"
   ]
  },
  {
   "cell_type": "code",
   "execution_count": 68,
   "id": "a91c1cd6",
   "metadata": {},
   "outputs": [
    {
     "name": "stdout",
     "output_type": "stream",
     "text": [
      "[[9 6]\n",
      " [4 0]\n",
      " [3 4]]\n",
      "(3, 2)\n"
     ]
    }
   ],
   "source": [
    "# another way to do\n",
    "trans2 = array.T\n",
    "print(trans2)\n",
    "print(trans2.shape)"
   ]
  },
  {
   "cell_type": "code",
   "execution_count": 69,
   "id": "0545e6bd",
   "metadata": {},
   "outputs": [
    {
     "name": "stdout",
     "output_type": "stream",
     "text": [
      "[[4 2 3]\n",
      " [4 7 5]]\n",
      "(2, 3)\n"
     ]
    }
   ],
   "source": [
    "# Reshaping a array\n",
    "a=np.random.randint(0,10,(2,3))\n",
    "print(a)\n",
    "print(a.shape)"
   ]
  },
  {
   "cell_type": "code",
   "execution_count": 70,
   "id": "3e0d3c11",
   "metadata": {},
   "outputs": [
    {
     "name": "stdout",
     "output_type": "stream",
     "text": [
      "[[4 2]\n",
      " [3 4]\n",
      " [7 5]]\n",
      "(3, 2)\n"
     ]
    }
   ],
   "source": [
    "b=a.reshape(3,2)\n",
    "print(b)\n",
    "print(b.shape)"
   ]
  },
  {
   "cell_type": "code",
   "execution_count": null,
   "id": "f01fd6b7",
   "metadata": {},
   "outputs": [],
   "source": []
  }
 ],
 "metadata": {
  "kernelspec": {
   "display_name": "Python 3",
   "language": "python",
   "name": "python3"
  },
  "language_info": {
   "codemirror_mode": {
    "name": "ipython",
    "version": 3
   },
   "file_extension": ".py",
   "mimetype": "text/x-python",
   "name": "python",
   "nbconvert_exporter": "python",
   "pygments_lexer": "ipython3",
   "version": "3.8.8"
  }
 },
 "nbformat": 4,
 "nbformat_minor": 5
}
