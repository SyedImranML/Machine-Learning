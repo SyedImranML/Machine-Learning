{
 "cells": [
  {
   "cell_type": "markdown",
   "id": "57c80d5d",
   "metadata": {},
   "source": [
    "### Machine Learning With Python: Linear Regression Multiple Variables"
   ]
  },
  {
   "cell_type": "markdown",
   "id": "a214b420",
   "metadata": {},
   "source": [
    "Problem 4:  House price prediction using Linear Regression – Multiple Variable all so known as multivariate regression\n",
    "\n",
    "Given these home prices find out price of a home that has,\n",
    "\n",
    "    3000 sqr ft area, 3 bedrooms, 40 year old\n",
    "    2500 sqr ft area, 4 bedrooms, 5 year old\n",
    "\n",
    "We will use regression with multiple variables here. Price can be calculated using following equation, \n",
    "           \n",
    "           Y = m1*x1 + m2*X2 + m3*X3 + b\n",
    "\n",
    "Here area, bedrooms, age are called independant variables or features whereas price is a dependant variable"
   ]
  },
  {
   "cell_type": "markdown",
   "id": "e14caa2f",
   "metadata": {},
   "source": [
    "### Topics:\n",
    "* Data preprocessing : Handling NA values\n",
    "* Linear Regression using Multiple Variables."
   ]
  },
  {
   "cell_type": "code",
   "execution_count": 1,
   "id": "e210eba6",
   "metadata": {},
   "outputs": [],
   "source": [
    "import pandas as pd\n",
    "import numpy as np\n",
    "from sklearn import linear_model"
   ]
  },
  {
   "cell_type": "code",
   "execution_count": 4,
   "id": "f96ddba5",
   "metadata": {},
   "outputs": [
    {
     "data": {
      "text/html": [
       "<div>\n",
       "<style scoped>\n",
       "    .dataframe tbody tr th:only-of-type {\n",
       "        vertical-align: middle;\n",
       "    }\n",
       "\n",
       "    .dataframe tbody tr th {\n",
       "        vertical-align: top;\n",
       "    }\n",
       "\n",
       "    .dataframe thead th {\n",
       "        text-align: right;\n",
       "    }\n",
       "</style>\n",
       "<table border=\"1\" class=\"dataframe\">\n",
       "  <thead>\n",
       "    <tr style=\"text-align: right;\">\n",
       "      <th></th>\n",
       "      <th>area</th>\n",
       "      <th>bedrooms</th>\n",
       "      <th>age</th>\n",
       "      <th>price</th>\n",
       "    </tr>\n",
       "  </thead>\n",
       "  <tbody>\n",
       "    <tr>\n",
       "      <th>0</th>\n",
       "      <td>2600</td>\n",
       "      <td>3.0</td>\n",
       "      <td>20</td>\n",
       "      <td>550000</td>\n",
       "    </tr>\n",
       "    <tr>\n",
       "      <th>1</th>\n",
       "      <td>3000</td>\n",
       "      <td>4.0</td>\n",
       "      <td>15</td>\n",
       "      <td>565000</td>\n",
       "    </tr>\n",
       "    <tr>\n",
       "      <th>2</th>\n",
       "      <td>3200</td>\n",
       "      <td>NaN</td>\n",
       "      <td>18</td>\n",
       "      <td>610000</td>\n",
       "    </tr>\n",
       "    <tr>\n",
       "      <th>3</th>\n",
       "      <td>3600</td>\n",
       "      <td>3.0</td>\n",
       "      <td>30</td>\n",
       "      <td>595000</td>\n",
       "    </tr>\n",
       "    <tr>\n",
       "      <th>4</th>\n",
       "      <td>4000</td>\n",
       "      <td>5.0</td>\n",
       "      <td>8</td>\n",
       "      <td>760000</td>\n",
       "    </tr>\n",
       "  </tbody>\n",
       "</table>\n",
       "</div>"
      ],
      "text/plain": [
       "   area  bedrooms  age   price\n",
       "0  2600       3.0   20  550000\n",
       "1  3000       4.0   15  565000\n",
       "2  3200       NaN   18  610000\n",
       "3  3600       3.0   30  595000\n",
       "4  4000       5.0    8  760000"
      ]
     },
     "execution_count": 4,
     "metadata": {},
     "output_type": "execute_result"
    }
   ],
   "source": [
    "df = pd.read_csv(\"homeprices_mv.csv\")\n",
    "df"
   ]
  },
  {
   "cell_type": "markdown",
   "id": "5c308e32",
   "metadata": {},
   "source": [
    "Since one datapoint is missing so i will have median of all bedrooms it will be safe assumption"
   ]
  },
  {
   "cell_type": "markdown",
   "id": "2c3981b0",
   "metadata": {},
   "source": [
    "### Data Preprocessing: Fill NA values with median value of a column"
   ]
  },
  {
   "cell_type": "code",
   "execution_count": 5,
   "id": "ca830cc0",
   "metadata": {},
   "outputs": [
    {
     "data": {
      "text/plain": [
       "3.5"
      ]
     },
     "execution_count": 5,
     "metadata": {},
     "output_type": "execute_result"
    }
   ],
   "source": [
    "df.bedrooms.median()"
   ]
  },
  {
   "cell_type": "markdown",
   "id": "916036e6",
   "metadata": {},
   "source": [
    "i got 3.5 value as float type so i want to keep it integer i.e whole number to do so i need to import math"
   ]
  },
  {
   "cell_type": "code",
   "execution_count": 6,
   "id": "da5dc949",
   "metadata": {},
   "outputs": [
    {
     "data": {
      "text/plain": [
       "3"
      ]
     },
     "execution_count": 6,
     "metadata": {},
     "output_type": "execute_result"
    }
   ],
   "source": [
    "import math\n",
    "median_bedrooms = math.floor(df.bedrooms.median())\n",
    "median_bedrooms"
   ]
  },
  {
   "cell_type": "markdown",
   "id": "92018a27",
   "metadata": {},
   "source": [
    "To fill missing value in a data frames we need fillna function , fillna function is avaiable in pandas series"
   ]
  },
  {
   "cell_type": "code",
   "execution_count": 9,
   "id": "1aeb256c",
   "metadata": {},
   "outputs": [
    {
     "data": {
      "text/plain": [
       "0    3.0\n",
       "1    4.0\n",
       "2    3.0\n",
       "3    3.0\n",
       "4    5.0\n",
       "Name: bedrooms, dtype: float64"
      ]
     },
     "execution_count": 9,
     "metadata": {},
     "output_type": "execute_result"
    }
   ],
   "source": [
    "df.bedrooms.fillna(median_bedrooms)\n"
   ]
  },
  {
   "cell_type": "markdown",
   "id": "fcc09d81",
   "metadata": {},
   "source": [
    "We can see that we got a new series with this NaN value is now replace with median number"
   ]
  },
  {
   "cell_type": "markdown",
   "id": "d08428d5",
   "metadata": {},
   "source": [
    "### Need to assign this new series back to original series so that my data frame gets updated\n"
   ]
  },
  {
   "cell_type": "code",
   "execution_count": 10,
   "id": "e76765a4",
   "metadata": {},
   "outputs": [
    {
     "data": {
      "text/html": [
       "<div>\n",
       "<style scoped>\n",
       "    .dataframe tbody tr th:only-of-type {\n",
       "        vertical-align: middle;\n",
       "    }\n",
       "\n",
       "    .dataframe tbody tr th {\n",
       "        vertical-align: top;\n",
       "    }\n",
       "\n",
       "    .dataframe thead th {\n",
       "        text-align: right;\n",
       "    }\n",
       "</style>\n",
       "<table border=\"1\" class=\"dataframe\">\n",
       "  <thead>\n",
       "    <tr style=\"text-align: right;\">\n",
       "      <th></th>\n",
       "      <th>area</th>\n",
       "      <th>bedrooms</th>\n",
       "      <th>age</th>\n",
       "      <th>price</th>\n",
       "    </tr>\n",
       "  </thead>\n",
       "  <tbody>\n",
       "    <tr>\n",
       "      <th>0</th>\n",
       "      <td>2600</td>\n",
       "      <td>3.0</td>\n",
       "      <td>20</td>\n",
       "      <td>550000</td>\n",
       "    </tr>\n",
       "    <tr>\n",
       "      <th>1</th>\n",
       "      <td>3000</td>\n",
       "      <td>4.0</td>\n",
       "      <td>15</td>\n",
       "      <td>565000</td>\n",
       "    </tr>\n",
       "    <tr>\n",
       "      <th>2</th>\n",
       "      <td>3200</td>\n",
       "      <td>3.0</td>\n",
       "      <td>18</td>\n",
       "      <td>610000</td>\n",
       "    </tr>\n",
       "    <tr>\n",
       "      <th>3</th>\n",
       "      <td>3600</td>\n",
       "      <td>3.0</td>\n",
       "      <td>30</td>\n",
       "      <td>595000</td>\n",
       "    </tr>\n",
       "    <tr>\n",
       "      <th>4</th>\n",
       "      <td>4000</td>\n",
       "      <td>5.0</td>\n",
       "      <td>8</td>\n",
       "      <td>760000</td>\n",
       "    </tr>\n",
       "  </tbody>\n",
       "</table>\n",
       "</div>"
      ],
      "text/plain": [
       "   area  bedrooms  age   price\n",
       "0  2600       3.0   20  550000\n",
       "1  3000       4.0   15  565000\n",
       "2  3200       3.0   18  610000\n",
       "3  3600       3.0   30  595000\n",
       "4  4000       5.0    8  760000"
      ]
     },
     "execution_count": 10,
     "metadata": {},
     "output_type": "execute_result"
    }
   ],
   "source": [
    "df.bedrooms = df.bedrooms.fillna(median_bedrooms)\n",
    "df"
   ]
  },
  {
   "cell_type": "markdown",
   "id": "923fd308",
   "metadata": {},
   "source": [
    "Now if i see my data frame it looks better\n",
    "\n",
    "SO datapreprocessing steps is over"
   ]
  },
  {
   "cell_type": "markdown",
   "id": "09acb599",
   "metadata": {},
   "source": [
    "### Summarize"
   ]
  },
  {
   "cell_type": "markdown",
   "id": "d8c12c47",
   "metadata": {},
   "source": [
    "To summarize before applying any machine learning model you need to preprocesses your data ,\n",
    "you need to clean your data because data is always massy , there are problems with it and fixed the error\n",
    "and prepare your data and then apply your actual machine learning model using this data you train the model."
   ]
  },
  {
   "cell_type": "markdown",
   "id": "b984793c",
   "metadata": {},
   "source": [
    "- So now my data frame looks good\n",
    "- I am all set to train my model"
   ]
  },
  {
   "cell_type": "markdown",
   "id": "b12b719f",
   "metadata": {},
   "source": [
    "### Create Linear Regression Class Object"
   ]
  },
  {
   "cell_type": "code",
   "execution_count": 15,
   "id": "9d20b4c7",
   "metadata": {},
   "outputs": [],
   "source": [
    "reg = linear_model.LinearRegression()   "
   ]
  },
  {
   "cell_type": "markdown",
   "id": "7090421b",
   "metadata": {},
   "source": [
    "### Training the Model"
   ]
  },
  {
   "cell_type": "code",
   "execution_count": 16,
   "id": "cb6c90b9",
   "metadata": {},
   "outputs": [
    {
     "data": {
      "text/plain": [
       "LinearRegression()"
      ]
     },
     "execution_count": 16,
     "metadata": {},
     "output_type": "execute_result"
    }
   ],
   "source": [
    "reg.fit(df[['area','bedrooms','age']],df.price)"
   ]
  },
  {
   "cell_type": "markdown",
   "id": "8d170ba7",
   "metadata": {},
   "source": [
    "If i execute this my model is ready !"
   ]
  },
  {
   "cell_type": "markdown",
   "id": "99169271",
   "metadata": {},
   "source": [
    "### Coeffient"
   ]
  },
  {
   "cell_type": "code",
   "execution_count": 17,
   "id": "389432e3",
   "metadata": {},
   "outputs": [
    {
     "data": {
      "text/plain": [
       "array([   137.25, -26025.  ,  -6825.  ])"
      ]
     },
     "execution_count": 17,
     "metadata": {},
     "output_type": "execute_result"
    }
   ],
   "source": [
    "reg.coef_"
   ]
  },
  {
   "cell_type": "code",
   "execution_count": 18,
   "id": "d408b5e8",
   "metadata": {},
   "outputs": [
    {
     "data": {
      "text/plain": [
       "383724.9999999998"
      ]
     },
     "execution_count": 18,
     "metadata": {},
     "output_type": "execute_result"
    }
   ],
   "source": [
    "reg.intercept_"
   ]
  },
  {
   "cell_type": "markdown",
   "id": "0163ae97",
   "metadata": {},
   "source": [
    "### Find price of home with 3000 sqr ft area, 3 bedrooms, 40 year old"
   ]
  },
  {
   "cell_type": "code",
   "execution_count": 19,
   "id": "30499e89",
   "metadata": {},
   "outputs": [
    {
     "data": {
      "text/plain": [
       "array([444400.])"
      ]
     },
     "execution_count": 19,
     "metadata": {},
     "output_type": "execute_result"
    }
   ],
   "source": [
    "reg.predict([[3000,3,40]])"
   ]
  },
  {
   "cell_type": "code",
   "execution_count": 22,
   "id": "f7818739",
   "metadata": {},
   "outputs": [
    {
     "data": {
      "text/plain": [
       "444399.9999999998"
      ]
     },
     "execution_count": 22,
     "metadata": {},
     "output_type": "execute_result"
    }
   ],
   "source": [
    "137.25*3000+-26025*3+-6825*40+383724.9999999998"
   ]
  },
  {
   "cell_type": "code",
   "execution_count": 23,
   "id": "1092504b",
   "metadata": {},
   "outputs": [
    {
     "data": {
      "text/plain": [
       "array([589000.])"
      ]
     },
     "execution_count": 23,
     "metadata": {},
     "output_type": "execute_result"
    }
   ],
   "source": [
    "reg.predict([[3000,4,15]])"
   ]
  },
  {
   "cell_type": "markdown",
   "id": "f9be434f",
   "metadata": {},
   "source": [
    "**Find price of home with 2500 sqr ft area, 4 bedrooms,  5 year old**"
   ]
  },
  {
   "cell_type": "code",
   "execution_count": 24,
   "id": "bcdcf376",
   "metadata": {},
   "outputs": [
    {
     "data": {
      "text/plain": [
       "array([588625.])"
      ]
     },
     "execution_count": 24,
     "metadata": {},
     "output_type": "execute_result"
    }
   ],
   "source": [
    "reg.predict([[2500,4,5]])"
   ]
  },
  {
   "cell_type": "markdown",
   "id": "0ccf8398",
   "metadata": {},
   "source": [
    "Here the price is high compare to the list becz it is 5 years old"
   ]
  },
  {
   "cell_type": "markdown",
   "id": "de34a7d5",
   "metadata": {},
   "source": [
    "***Exercise***"
   ]
  },
  {
   "cell_type": "markdown",
   "id": "5f1b5ca2",
   "metadata": {},
   "source": [
    "In exercise folder (same level as this notebook on github) there is hiring.csv. This file contains hiring statics for a firm such as experience of candidate, his written test score and personal interview score. Based on these 3 factors, HR will decide the salary. Given this data, you need to build a machine learning model for HR department that can help them decide salaries for future candidates. Using this predict salaries for following candidates,\n",
    "\n",
    "2 yr experience, 9 test score, 6 interview score\n",
    "\n",
    "12 yr experience, 10 test score, 10 interview score\n",
    "\n",
    "Answer\n",
    "53713.86 and 93747.79"
   ]
  },
  {
   "cell_type": "code",
   "execution_count": null,
   "id": "8c39e29d",
   "metadata": {},
   "outputs": [],
   "source": []
  }
 ],
 "metadata": {
  "kernelspec": {
   "display_name": "Python 3",
   "language": "python",
   "name": "python3"
  },
  "language_info": {
   "codemirror_mode": {
    "name": "ipython",
    "version": 3
   },
   "file_extension": ".py",
   "mimetype": "text/x-python",
   "name": "python",
   "nbconvert_exporter": "python",
   "pygments_lexer": "ipython3",
   "version": "3.8.8"
  }
 },
 "nbformat": 4,
 "nbformat_minor": 5
}
